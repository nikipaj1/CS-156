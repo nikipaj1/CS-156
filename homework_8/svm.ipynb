{
 "cells": [
  {
   "cell_type": "code",
   "execution_count": 23,
   "metadata": {
    "collapsed": true
   },
   "outputs": [],
   "source": [
    "import numpy as np\n",
    "import random\n",
    "import pandas as pd\n",
    "from sklearn import svm"
   ]
  },
  {
   "cell_type": "code",
   "execution_count": 25,
   "metadata": {},
   "outputs": [
    {
     "name": "stdout",
     "output_type": "stream",
     "text": [
      "None\n"
     ]
    }
   ],
   "source": [
    "class SVM:\n",
    "    def __init__(self,X_train,X_test):\n",
    "        self.X_train = X_train\n",
    "        self.X_test = X_test\n",
    "\n",
    "        \n",
    "    def svm_poly(self,deg,C):\n",
    "        svm_train = svm.SVC(C = C, kernel = 'poly',degree = deg , gamma = 1)\n",
    "        svm_train.fit(self.X_train,self.y_train)\n",
    "        \n",
    "        score = svm_train.score(X_test,y_test)\n",
    "        support_number = len(svm_train.support_vectors_)\n",
    "        \n",
    "        return score, support_number\n",
    "    \n",
    "    def svm_rbf(self, C):\n",
    "        svm_train = svm.SVC(C = C, kernel = 'rbf', gamma = 1)\n",
    "        svm_train.fit(self.X_train)\n",
    "        \n",
    "        score = svm_train(self.X_test, y_test)\n",
    "        support_number = len(svm_train.support_vectors_)\n",
    "        \n",
    "        return score, support_number\n",
    "    \n",
    "def onev_all(dataframe, particular):\n",
    "    # create the set of classifications for one class\n",
    "    X_train = []\n",
    "    y_train = []\n",
    "\n",
    "    for point in dataframe:\n",
    "        X_train.append(point[1],point[2])\n",
    "#         if point[0] == particular:\n",
    "#             y.append(1.)\n",
    "#         else:\n",
    "#             y.append(-1.)\n",
    "            \n",
    "        y_train.append(1.) if point[0] == particular else y_train.append(-1.)\n",
    "    return X_train, y_train\n",
    "\n",
    "def onev_one(dataframe,  particular1, particular2):\n",
    "    # create classification of many points\n",
    "    X_train = []\n",
    "    y_train = []\n",
    "    \n",
    "    for point in dataframe:\n",
    "        if point[0] == particular1: \n",
    "            y_train.append(1.)\n",
    "            X_train.append(point[1],point[2])\n",
    "            \n",
    "        elif point[0] == particular2: \n",
    "            y_train.append(-1.)\n",
    "            X_train.append(point[1],point[2])\n",
    "    return X_train, y_train\n",
    " \n",
    "            \n",
    "    \n",
    "def run():\n",
    "    df1 = pd.read_csv('features-train.txt', delim_whitespace=True, header=None)\n",
    "    df2 = pd.read_csv('features-test.txt', delim_whitespace=True, header=None)\n",
    "    \n",
    "    X_train = [[df1[1][i],df1[2][i]] for i in range(len(df1))]\n",
    "    X_test = [[df1[1][i],df1[2][i]] for i in range(len(df2))]\n",
    "    \n",
    "    y_train = [df1[0][i] for i in range(len(df1))]\n",
    "    y_test = [df2[0][i] for i in range(len(df2))]\n",
    "    \n",
    "    # question 2\n",
    "    array = []\n",
    "    choices = [0,2,4,6,8]\n",
    "    \n",
    "    \n",
    "    \n",
    "    \n",
    "    \n",
    "    \n",
    "if __name__ == \"__main__\":\n",
    "    print(run())\n",
    "    \n",
    "        "
   ]
  },
  {
   "cell_type": "code",
   "execution_count": null,
   "metadata": {
    "collapsed": true
   },
   "outputs": [],
   "source": []
  }
 ],
 "metadata": {
  "kernelspec": {
   "display_name": "Python 3",
   "language": "python",
   "name": "python3"
  },
  "language_info": {
   "codemirror_mode": {
    "name": "ipython",
    "version": 3
   },
   "file_extension": ".py",
   "mimetype": "text/x-python",
   "name": "python",
   "nbconvert_exporter": "python",
   "pygments_lexer": "ipython3",
   "version": "3.6.8"
  }
 },
 "nbformat": 4,
 "nbformat_minor": 2
}
