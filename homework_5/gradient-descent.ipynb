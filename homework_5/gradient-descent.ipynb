{
 "cells": [
  {
   "cell_type": "code",
   "execution_count": 36,
   "metadata": {
    "collapsed": true
   },
   "outputs": [],
   "source": [
    "import numpy as np\n",
    "import random\n",
    "import matplotlib.pyplot as plt\n",
    "%matplotlib inline\n",
    "from scipy.spatial import distance"
   ]
  },
  {
   "cell_type": "code",
   "execution_count": 24,
   "metadata": {
    "collapsed": true
   },
   "outputs": [],
   "source": [
    "def gradient():\n",
    "    u,v = point[0],point[1]\n",
    "    grad_u = 2*(u*np.exp(v) - 2*v*np.exp(-u))*(np.exp(v) + 2*v*np.exp(-u))\n",
    "    grad_v = 2*(u*np.exp(v) - 2*v*np.exp(-u))*(u*np.exp(v) - 2*np.exp(-u))\n",
    "    \n",
    "    return np.array([grad_u, grad_v])\n",
    "\n",
    "def error_fun():\n",
    "    # initial is [1,1]\n",
    "    u,v = point[0], point[1]\n",
    "    return (u*np.exp(v) - 2*v*np.exp(-u))**2"
   ]
  },
  {
   "cell_type": "code",
   "execution_count": 28,
   "metadata": {},
   "outputs": [
    {
     "name": "stdout",
     "output_type": "stream",
     "text": [
      "3.93039723188\n"
     ]
    }
   ],
   "source": [
    "steps = 0\n",
    "tolerance = 10.0 **(-14)\n",
    "learn_rate = 0.1\n",
    "\n",
    "point = np.array([1,1])\n",
    "\n",
    "print(error_fun())\n",
    "\n",
    "plot_y = []\n",
    "# gradient descent\n",
    "while error_fun() > tolerance:\n",
    "    plot_y.append([point[0],point[1]])\n",
    "    grad = gradient()\n",
    "    point = point -  grad*learn_rate\n",
    "    \n",
    "    steps +=1"
   ]
  },
  {
   "cell_type": "code",
   "execution_count": 29,
   "metadata": {},
   "outputs": [
    {
     "name": "stdout",
     "output_type": "stream",
     "text": [
      "10\n"
     ]
    }
   ],
   "source": [
    "print(str(steps)) # returns 10 steps to descend"
   ]
  },
  {
   "cell_type": "code",
   "execution_count": 40,
   "metadata": {},
   "outputs": [
    {
     "data": {
      "text/plain": [
       "[0.044736390817507084, 0.023958538922248602]"
      ]
     },
     "execution_count": 40,
     "metadata": {},
     "output_type": "execute_result"
    }
   ],
   "source": [
    "plot_y[-1]"
   ]
  },
  {
   "cell_type": "code",
   "execution_count": 48,
   "metadata": {},
   "outputs": [
    {
     "name": "stdout",
     "output_type": "stream",
     "text": [
      "0.139813791996\n"
     ]
    }
   ],
   "source": [
    "# now repeat for coordinate descent\n",
    "steps = 0\n",
    "tolerance = 10.0 **(-14)\n",
    "learn_rate = 0.1\n",
    "point = np.array([1.0,1.0])\n",
    "\n",
    "count = 0\n",
    "\n",
    "while count < 15:\n",
    "    grad = gradient()\n",
    "    point[0] = point[0] - grad[0] * learn_rate\n",
    "    \n",
    "    grad = gradient()\n",
    "    point[1] = point[1] - grad[1] * learn_rate\n",
    "    \n",
    "    count +=1\n",
    "    \n",
    "print(error_fun()) # correct answer [a]"
   ]
  },
  {
   "cell_type": "code",
   "execution_count": null,
   "metadata": {
    "collapsed": true
   },
   "outputs": [],
   "source": []
  }
 ],
 "metadata": {
  "kernelspec": {
   "display_name": "Python 3",
   "language": "python",
   "name": "python3"
  },
  "language_info": {
   "codemirror_mode": {
    "name": "ipython",
    "version": 3
   },
   "file_extension": ".py",
   "mimetype": "text/x-python",
   "name": "python",
   "nbconvert_exporter": "python",
   "pygments_lexer": "ipython3",
   "version": "3.6.1"
  }
 },
 "nbformat": 4,
 "nbformat_minor": 2
}
