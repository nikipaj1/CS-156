{
 "cells": [
  {
   "cell_type": "code",
   "execution_count": 14,
   "metadata": {},
   "outputs": [],
   "source": [
    "import numpy as np\n",
    "import random\n",
    "import matplotlib.pyplot as plt\n",
    "% matplotlib inline\n",
    "import seaborn as sns; sns.set()\n",
    "from pylab import savefig"
   ]
  },
  {
   "cell_type": "code",
   "execution_count": 72,
   "metadata": {},
   "outputs": [
    {
     "name": "stdout",
     "output_type": "stream",
     "text": [
      "Question 4: The average hypothesis g-bar(X) = 1.36*X\n",
      "Question 5: The bias is 0.26\n",
      "1.8220640012253477\n"
     ]
    }
   ],
   "source": [
    "class SineTrain:\n",
    "    ''' linear regression with a function h(x) = ax\n",
    "    finding a'''\n",
    "    def __init__(self, X, a = None):\n",
    "        self.a = a\n",
    "        self.X = X\n",
    "    \n",
    "    def hypothesis(self, point):\n",
    "        return np.sign(self.a*point[0]) \n",
    "        \n",
    "    def train_nointercept(self, X_train):\n",
    "        numerator = [point[0]*point[1] for point in X_train]\n",
    "        numerator = np.sum(numerator)\n",
    "        \n",
    "        denominator = [point[0]**2 for point in X_train]\n",
    "        denominator = np.sum(denominator)\n",
    "        \n",
    "        self.a = numerator / float(denominator)\n",
    "        \n",
    "def target(point):\n",
    "    return np.sin(np.pi*point)\n",
    "        \n",
    "def run(run_number, X_size):\n",
    "    a_vals = []\n",
    "    X = [[random.uniform(-1,1)] for i in range(X_size)]\n",
    "    for i in X:\n",
    "        i.append(target(i[0]))\n",
    "\n",
    "    \n",
    "    for i in range(run_number):\n",
    "\n",
    "        model = SineTrain(X = X)\n",
    "        \n",
    "        # two points\n",
    "        point1,point2 = random.sample(model.X, 2)\n",
    "\n",
    "        model.train_nointercept(X_train = [point1,point2])\n",
    "        a_vals.append(model.a)\n",
    "        \n",
    "        #     x = [point[0] for point in model.X]\n",
    "        #     y = [point[1] for point in model.X]\n",
    "\n",
    "\n",
    "        #     sns_plot = sns.scatterplot(x,y)   \n",
    "\n",
    "        #     figure = sns_plot.get_figure()\n",
    "        #     figure.savefig(\"output.png\")\n",
    "\n",
    "    print(\"Question 4: The average hypothesis g-bar(X) = \" + str(np.round(np.average(a_vals),decimals=2)) + \"*X\") # returns 1.49, which gives answer [e]\n",
    "    \n",
    "    a_avg = np.average(a_vals)\n",
    "    g_bar = []\n",
    "    for i in model.X:\n",
    "        g_bar.append(a_avg*i[0])\n",
    "    g_bar = np.array([g_bar]).T\n",
    "    \n",
    "    f_x = np.array([[pt[1]] for pt in model.X])\n",
    "    bias = np.mean((g_bar - f_x)**2)\n",
    "    \n",
    "    print(\"Question 5: The bias is \" + str(np.round(bias, decimals=2))) # closest answer is 0.3 i.e. [b]\n",
    "    \n",
    "    a = np.array([a_vals]).T\n",
    "\n",
    "    variance = np.mean((a - g_bar.T[:,len(a)])**2)\n",
    "    print(variance)\n",
    "    \n",
    "if __name__ == \"__main__\":\n",
    "    run(100,1000)\n"
   ]
  },
  {
   "cell_type": "code",
   "execution_count": null,
   "metadata": {
    "collapsed": true
   },
   "outputs": [],
   "source": []
  }
 ],
 "metadata": {
  "kernelspec": {
   "display_name": "Python 3",
   "language": "python",
   "name": "python3"
  },
  "language_info": {
   "codemirror_mode": {
    "name": "ipython",
    "version": 3
   },
   "file_extension": ".py",
   "mimetype": "text/x-python",
   "name": "python",
   "nbconvert_exporter": "python",
   "pygments_lexer": "ipython3",
   "version": "3.6.8"
  }
 },
 "nbformat": 4,
 "nbformat_minor": 2
}
