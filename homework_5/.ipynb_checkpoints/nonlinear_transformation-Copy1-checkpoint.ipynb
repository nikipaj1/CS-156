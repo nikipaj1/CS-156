{
 "cells": [
  {
   "cell_type": "code",
   "execution_count": 39,
   "metadata": {
    "collapsed": true
   },
   "outputs": [],
   "source": [
    "import numpy as np\n",
    "import math\n",
    "import random\n",
    "import matplotlib.pyplot as plt\n",
    "%matplotlib inline"
   ]
  },
  {
   "cell_type": "code",
   "execution_count": 57,
   "metadata": {
    "collapsed": true
   },
   "outputs": [],
   "source": [
    "def plot_nl():\n",
    "    fig = plt.figure()\n",
    "    ax = fig.add_subplot()\n",
    "    ax.set_xlabel('$x_1$'), ax.set_ylabel('$x_2$')\n",
    "    \n",
    "    for point in data:\n",
    "        if target(point,non_linear) == 1:\n",
    "            positive.append([point[1], point[2]])\n",
    "        else:\n",
    "            negative.append([point[1], point[2]])\n",
    "        \n",
    "    x_line = np.linspace(-1,1,5)\n",
    "    positive = np.array(positive)\n",
    "    negative = np.array(negative)\n",
    "    plt.xlim((-1.0, 1.0))\n",
    "    plt.ylim((-1.0, 1.0))\n",
    "    plt.savefig(plot_name + \".png\", dpi=100)\n",
    "\n",
    "\n",
    "# generate either linear target or non-linear\n",
    "def target(point, non_linear = False):\n",
    "    x, y = point[1], point[2]\n",
    "    \n",
    "    if not non_linear:\n",
    "        #classify according to the target line\n",
    "        return 1 if y > slope*(x-x1) + y1 else -1\n",
    "    else:\n",
    "        # classify according to the non-linaer function\n",
    "        return np.sign(x**2 + y**2 - 0.6)\n",
    "\n",
    "def hypothesis(mat):\n",
    "    # make sure w is global\n",
    "    return np.sign(np.dot(mat, w))\n",
    "\n",
    "def add_noise(y, noise = 0.1):\n",
    "    flip_num = len(testing_data)*noise\n",
    "    # use set to avoid duplications and no need of checking\n",
    "    flipped = set()\n",
    "    \n",
    "    while len(flipped) < flip_num:\n",
    "        choice = random.randint(0,len(y)-1)\n",
    "        # add the index of flipped point\n",
    "        flipped.add(choice)\n",
    "        y[choice][0] *= -1\n",
    "    return y\n",
    "\n",
    "def line_train(noise = False,  non_linear = False):\n",
    "    \n",
    "    if not non_linear:\n",
    "        x_mat = np.array(training_data)\n",
    "        y_vect = np.array([[target(i, non_linear=non_linear)] for i in training_data])\n",
    "    \n",
    "    else:\n",
    "        z_mat = np.array([[1, pt[1], pt[2],pt[1]*pt[2], pt[1]**2,pt[2]**2] for pt in training_data])\n",
    "        y_vect = np.array([[target(i,non_linear=non_linear)] for i in training_data])\n",
    "    \n",
    "    if noise is not None:\n",
    "        y_vect = add_noise(y_vect)\n",
    "    \n",
    "    global w\n",
    "    if not non_linear:\n",
    "        w = np.dot(np.linalg.pinv(x_mat),y_vect)\n",
    "    else:\n",
    "        w = np.dot(np.linalg.pinv(z_mat),y_vect)\n",
    "\n",
    "def perceptron_train():\n",
    "    misclassified = []\n",
    "    repeats = 0\n",
    "    global w\n",
    "    \n",
    "    while True:\n",
    "        for point in training_data:\n",
    "            # find all misclassified points\n",
    "            real = target(point)\n",
    "            if hypothesis(point) != real:\n",
    "                misclassified.append([point, real])\n",
    "\n",
    "        if not misclassified: break\n",
    "        else:\n",
    "            # choosing a random point to train the perceptron\n",
    "            repeats += 1\n",
    "            point, y_n = random.choice(misclassified)\n",
    "\n",
    "            w += y_n * np.array([point]).T\n",
    "\n",
    "            misclassified = []\n",
    "        \n",
    "    return repeats\n",
    "    \n",
    "def test(non_linear = False, noise=0.1):\n",
    "    miss = 0\n",
    "    \n",
    "    target_y = np.array([[target(i,non_linear)] for i in testing_data]) \n",
    "    if not non_linear:\n",
    "        hyp_y = hypothesis(testing_data)\n",
    "    else:\n",
    "        z_mat = np.array([[1, pt[1], pt[2],pt[1]*pt[2], pt[1]**2,pt[2]**2] for pt in testing_data])\n",
    "        hyp_y = hypothesis(z_mat)\n",
    "    \n",
    "    if noise is not None:\n",
    "        target_y = add_noise(target_y)\n",
    "    \n",
    "    # counting the misclassified points\n",
    "    for i in range(len(target_y)):\n",
    "        if target_y[i] != hyp_y[i]: \n",
    "            miss +=1\n",
    "    return miss / float(len(target_y))"
   ]
  },
  {
   "cell_type": "code",
   "execution_count": 61,
   "metadata": {
    "collapsed": true
   },
   "outputs": [],
   "source": []
  },
  {
   "cell_type": "code",
   "execution_count": null,
   "metadata": {
    "collapsed": true
   },
   "outputs": [],
   "source": []
  },
  {
   "cell_type": "code",
   "execution_count": null,
   "metadata": {
    "collapsed": true
   },
   "outputs": [],
   "source": []
  },
  {
   "cell_type": "code",
   "execution_count": null,
   "metadata": {
    "collapsed": true
   },
   "outputs": [],
   "source": []
  }
 ],
 "metadata": {
  "kernelspec": {
   "display_name": "Python 3",
   "language": "python",
   "name": "python3"
  },
  "language_info": {
   "codemirror_mode": {
    "name": "ipython",
    "version": 3
   },
   "file_extension": ".py",
   "mimetype": "text/x-python",
   "name": "python",
   "nbconvert_exporter": "python",
   "pygments_lexer": "ipython3",
   "version": "3.6.1"
  }
 },
 "nbformat": 4,
 "nbformat_minor": 2
}
