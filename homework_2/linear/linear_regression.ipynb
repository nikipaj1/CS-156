{
 "cells": [
  {
   "cell_type": "code",
   "execution_count": 1,
   "metadata": {
    "collapsed": true
   },
   "outputs": [],
   "source": [
    "import numpy as np\n",
    "import random\n",
    "import matplotlib.pyplot as plt\n",
    "%matplotlib inline"
   ]
  },
  {
   "cell_type": "code",
   "execution_count": 107,
   "metadata": {
    "collapsed": true
   },
   "outputs": [],
   "source": [
    "# code for linear regression, also reused in non-linear transformation\n",
    "\n",
    "def plot(data, plot_name, x_line = None, y_line = None, w_slope = None, w_intercept = None):\n",
    "    fig = plt.figure()\n",
    "    ax = fig.add_subplot(111)\n",
    "    \n",
    "    ax.set_xlabel('$x_1$'), ax.set_ylabel('$x_2$')\n",
    "    \n",
    "    positive = []\n",
    "    negative = []\n",
    "    \n",
    "    for point in data:\n",
    "        if target(point) == 1:\n",
    "            positive.append([point[1], point[2]])\n",
    "            \n",
    "        else:\n",
    "            negative.append([point[1], point[2]])\n",
    "    \n",
    "    x_line = np.linspace(-1,1,5)\n",
    "    positive = np.array(positive)\n",
    "    negative = np.array(negative)\n",
    "    \n",
    "    # if perceptron or linear regression used, plot weights line\n",
    "    if w_slope is None:\n",
    "        y_line = [slope* (point - x1) + y1 for point in x_line]\n",
    "        plt.plot(positive[:,0], positive[:,1],'rx', negative[:,0],negative[:,1],'bx',x_line,y_line)\n",
    "    # no model applied, plot target function\n",
    "    else:\n",
    "        y_line = [w_slope* point + w_intercept for point in x_line]\n",
    "        plt.plot(positive[:,0], positive[:,1],'rx', negative[:,0],negative[:,1],'bx',x_line,y_line)\n",
    "    \n",
    "    plt.xlim((-1.0, 1.0))\n",
    "    plt.ylim((-1.0, 1.0))\n",
    "    plt.savefig(plot_name + \".png\", dpi=100)\n",
    "\n",
    "def target(point):\n",
    "    x, y = point[1], point[2]\n",
    "    return 1 if y > slope*(x-x1) + y1 else -1\n",
    "\n",
    "def hypothesis(point):\n",
    "    # make sure w is global\n",
    "    return np.sign(np.dot(point,w))\n",
    "\n",
    "def line_train():\n",
    "    x_mat = np.array(training_data)\n",
    "    y_vect = np.array([[target(i)] for i in training_data])\n",
    "    global w\n",
    "    w = np.dot(np.linalg.pinv(x_mat),y_vect)\n",
    "\n",
    "def perceptron_train():\n",
    "    misclassified = []\n",
    "    repeats = 0\n",
    "    global w\n",
    "    \n",
    "    while True:\n",
    "        for point in training_data:\n",
    "            # find all misclassified points\n",
    "            real = target(point)\n",
    "            if hypothesis(point) != real:\n",
    "                misclassified.append([point, real])\n",
    "\n",
    "        if not misclassified: break\n",
    "        else:\n",
    "            # choosing a random point to train the perceptron\n",
    "            repeats += 1\n",
    "            point, y_n = random.choice(misclassified)\n",
    "\n",
    "            w += y_n * np.array([point]).T\n",
    "\n",
    "            misclassified = []\n",
    "        \n",
    "    return repeats\n",
    "    \n",
    "def test():\n",
    "    miss = 0\n",
    "    \n",
    "    target_y = np.array([[target(i)] for i in testing_data]) \n",
    "    hyp_y = np.sign(np.dot(testing_data, w))\n",
    "    \n",
    "    # counting the misclassified points\n",
    "    for i in range(len(target_y)):\n",
    "        if target_y[i] != hyp_y[i]: \n",
    "            miss +=1\n",
    "    return miss / float(len(target_y))\n",
    "\n",
    "def run(runs, data_size, in_sample = True, perceptron = False):\n",
    "    for i in range(runs):\n",
    "        \n",
    "        # generate training and testing data\n",
    "        global training_data, testing_data\n",
    "        training_data = [[1.,random.uniform(-1,1), random.uniform(-1,1)] for i in range(data_size)]\n",
    "        \n",
    "        if in_sample:\n",
    "            testing_data = training_data.copy()\n",
    "        else:\n",
    "            testing_data = [[1.,random.uniform(-1,1), random.uniform(-1,1)] for i in range(data_size)]\n",
    "        \n",
    "        # generate target function\n",
    "        point1 = (random.uniform(-1, 1), random.uniform(-1, 1))\n",
    "        point2 = (random.uniform(-1, 1), random.uniform(-1, 1))\n",
    "\n",
    "        global x1,y1,x2,y2,slope\n",
    "        x1, y1 = point1\n",
    "        x2, y2 = point2\n",
    "        slope = (y2 - y1) / (x2 - x1)\n",
    "        \n",
    "        if i == 1: plot(data = training_data, plot_name = \"target\" + str(i))\n",
    "        \n",
    "        global w\n",
    "        w = np.array([0.,0.,0.]).T\n",
    "        \n",
    "        \n",
    "        if i == 1: plot(data = training_data, plot_name=\"before_trainig\" + str(i), w_slope = 0, w_intercept = 0)\n",
    "        \n",
    "        # train linear regression and plot the outcome    \n",
    "        line_train()\n",
    "        \n",
    "        w_slope = -(w[1]/w[2])\n",
    "        w_intercept = -(w[0]/w[2])\n",
    "        \n",
    "        if i == 1: plot(training_data,\"after-train\" + str(i),w_slope = w_slope, w_intercept=w_intercept)\n",
    "        # train the perceptron and plot the outcome    \n",
    "        pla_rep = perceptron_train()\n",
    "        \n",
    "        if i == 1 and w[2] != 0: plot(data = training_data, plot_name=\"after-perceptron\" + str(i), w_slope = w_slope, w_intercept = w_intercept)\n",
    "    \n",
    "    # return the number of iterations required to seperate data with perceptron\n",
    "    print(\"The number of steps required to train the percpetron is \" + str(pla_rep / float(runs)))\n",
    "        \n",
    "        "
   ]
  },
  {
   "cell_type": "code",
   "execution_count": 108,
   "metadata": {
    "scrolled": true
   },
   "outputs": [
    {
     "name": "stderr",
     "output_type": "stream",
     "text": [
      "C:\\Users\\nikip\\Anaconda3\\lib\\site-packages\\ipykernel_launcher.py:135: RuntimeWarning: divide by zero encountered in true_divide\n",
      "C:\\Users\\nikip\\Anaconda3\\lib\\site-packages\\ipykernel_launcher.py:136: RuntimeWarning: divide by zero encountered in true_divide\n"
     ]
    },
    {
     "name": "stdout",
     "output_type": "stream",
     "text": [
      "The number of steps required to train the percpetron is 0.0\n"
     ]
    },
    {
     "data": {
      "image/png": "[encoded data removed]",
      "text/plain": [
       "<matplotlib.figure.Figure at 0x1801c5bd3c8>"
      ]
     },
     "metadata": {},
     "output_type": "display_data"
    },
    {
     "data": {
      "image/png": "[encoded data removed]",
      "text/plain": [
       "<matplotlib.figure.Figure at 0x1801c7726a0>"
      ]
     },
     "metadata": {},
     "output_type": "display_data"
    },
    {
     "data": {
      "image/png": "[encoded data removed]",
      "text/plain": [
       "<matplotlib.figure.Figure at 0x1801c7b03c8>"
      ]
     },
     "metadata": {},
     "output_type": "display_data"
    },
    {
     "data": {
      "image/png": "[encoded data removed]",
      "text/plain": [
       "<matplotlib.figure.Figure at 0x1801c7ab2e8>"
      ]
     },
     "metadata": {},
     "output_type": "display_data"
    }
   ],
   "source": [
    "run(1000,10)"
   ]
  },
  {
   "cell_type": "code",
   "execution_count": 24,
   "metadata": {
    "collapsed": true
   },
   "outputs": [],
   "source": []
  },
  {
   "cell_type": "code",
   "execution_count": null,
   "metadata": {
    "collapsed": true
   },
   "outputs": [],
   "source": []
  }
 ],
 "metadata": {
  "kernelspec": {
   "display_name": "Python 3",
   "language": "python",
   "name": "python3"
  },
  "language_info": {
   "codemirror_mode": {
    "name": "ipython",
    "version": 3
   },
   "file_extension": ".py",
   "mimetype": "text/x-python",
   "name": "python",
   "nbconvert_exporter": "python",
   "pygments_lexer": "ipython3",
   "version": "3.6.1"
  }
 },
 "nbformat": 4,
 "nbformat_minor": 2
}
