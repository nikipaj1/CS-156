{
  "nbformat": 4,
  "nbformat_minor": 0,
  "metadata": {
    "colab": {
      "name": "Riiid .ipynb",
      "provenance": [],
      "collapsed_sections": [
        "soCapk8GltUt",
        "K1F2tD0dnRQU",
        "CD7garTMlknY",
        "79wChuhFo5Lh",
        "oioXJESx-fP4",
        "rJQhVqXY-H6w",
        "C3CqKS6h-QGq",
        "npoZYEhl-5q0",
        "5yM8iP3100h6",
        "JYM_SJTaxNIa",
        "2bg7yWA-ZEhk"
      ],
      "toc_visible": true,
      "include_colab_link": true
    },
    "kernelspec": {
      "name": "python3",
      "display_name": "Python 3"
    },
    "accelerator": "GPU"
  },
  "cells": [
    {
      "cell_type": "markdown",
      "metadata": {
        "id": "view-in-github",
        "colab_type": "text"
      },
      "source": [
        "<a href=\"https://colab.research.google.com/github/nikipaj1/CS-156/blob/master/Riiid_.ipynb\" target=\"_parent\"><img src=\"https://colab.research.google.com/assets/colab-badge.svg\" alt=\"Open In Colab\"/></a>"
      ]
    },
    {
      "cell_type": "markdown",
      "metadata": {
        "id": "soCapk8GltUt"
      },
      "source": [
        "# **Download Initial Data**"
      ]
    },
    {
      "cell_type": "code",
      "metadata": {
        "id": "Tlk8sCoY3TJ7",
        "outputId": "b03a3c14-2e4f-4326-e219-e95b51716f2f",
        "colab": {
          "resources": {
            "http://localhost:8080/nbextensions/google.colab/files.js": {
              "data": "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",
              "ok": true,
              "headers": [
                [
                  "content-type",
                  "application/javascript"
                ]
              ],
              "status": 200,
              "status_text": ""
            }
          },
          "base_uri": "https://localhost:8080/",
          "height": 90
        }
      },
      "source": [
        "# from google.colab import files\n",
        "# # download data \n",
        "# files.upload() #upload kaggle.json\n",
        "\n",
        "# !pip install -q kaggle\n",
        "# !mkdir -p ~/.kaggle\n",
        "# !cp kaggle.json ~/.kaggle/\n",
        "# !ls ~/.kaggle\n",
        "# !chmod 600 /root/.kaggle/kaggle.json\n",
        "\n",
        "# !kaggle competitions download -c riiid-test-answer-prediction\n",
        "# !unzip train.csv.zip "
      ],
      "execution_count": null,
      "outputs": [
        {
          "output_type": "display_data",
          "data": {
            "text/html": [
              "\n",
              "     <input type=\"file\" id=\"files-8b87ca39-15ed-49c1-a27f-2360f14b5ba8\" name=\"files[]\" multiple disabled\n",
              "        style=\"border:none\" />\n",
              "     <output id=\"result-8b87ca39-15ed-49c1-a27f-2360f14b5ba8\">\n",
              "      Upload widget is only available when the cell has been executed in the\n",
              "      current browser session. Please rerun this cell to enable.\n",
              "      </output>\n",
              "      <script src=\"/nbextensions/google.colab/files.js\"></script> "
            ],
            "text/plain": [
              "<IPython.core.display.HTML object>"
            ]
          },
          "metadata": {
            "tags": []
          }
        },
        {
          "output_type": "stream",
          "text": [
            "Saving kaggle.json to kaggle.json\n",
            "kaggle.json\n"
          ],
          "name": "stdout"
        }
      ]
    },
    {
      "cell_type": "markdown",
      "metadata": {
        "id": "K1F2tD0dnRQU"
      },
      "source": [
        "# **Copy Data From GDrive**"
      ]
    },
    {
      "cell_type": "code",
      "metadata": {
        "id": "zO2eq5n6nZLH",
        "outputId": "38b22f43-a4c4-4ab9-d813-d8163b830b93",
        "colab": {
          "base_uri": "https://localhost:8080/"
        }
      },
      "source": [
        "from google.colab import drive\n",
        "drive.mount('/content/gdrive',force_remount=True)"
      ],
      "execution_count": null,
      "outputs": [
        {
          "output_type": "stream",
          "text": [
            "Mounted at /content/gdrive\n"
          ],
          "name": "stdout"
        }
      ]
    },
    {
      "cell_type": "code",
      "metadata": {
        "id": "-MPdu2JLnWzH",
        "outputId": "ac16ea21-87f2-4455-cbb4-0dd1330ef28a",
        "colab": {
          "base_uri": "https://localhost:8080/"
        }
      },
      "source": [
        "# !cp 'gdrive/My Drive/kaggle/data.zip' .\n",
        "\n",
        "# Raw data from source\n",
        "\n",
        "# !mkdir -p data\n",
        "# !unzip data.zip\n",
        "\n",
        "# Parquet with virtual timestamp and user/content statistics\n",
        "\n",
        "\n",
        "# !mkdir -p features\n",
        "# !unzip features.zip"
      ],
      "execution_count": null,
      "outputs": [
        {
          "output_type": "stream",
          "text": [
            "Archive:  data.zip\n",
            " extracting: data/kaggle.json        \n",
            "  inflating: data/train.parquet      \n",
            "   creating: data/riiideducation/\n",
            "  inflating: data/riiideducation/__init__.py  \n",
            "  inflating: data/riiideducation/competition.cpython-37m-x86_64-linux-gnu.so  \n",
            "  inflating: data/questions.csv      \n",
            "  inflating: data/lectures.csv       \n",
            "  inflating: data/example_sample_submission.csv  \n",
            "  inflating: data/example_test.csv   \n"
          ],
          "name": "stdout"
        }
      ]
    },
    {
      "cell_type": "markdown",
      "metadata": {
        "id": "CD7garTMlknY"
      },
      "source": [
        "# **Setup**\n"
      ]
    },
    {
      "cell_type": "code",
      "metadata": {
        "id": "EqCnZSVygt-t",
        "outputId": "23a5e4da-0c5b-434f-baac-20b96e33a06b",
        "colab": {
          "base_uri": "https://localhost:8080/"
        }
      },
      "source": [
        "# Install RAPIDS\n",
        "!git clone https://github.com/rapidsai/rapidsai-csp-utils.git\n",
        "!bash rapidsai-csp-utils/colab/rapids-colab.sh 0.14\n",
        "\n",
        "import sys, os\n",
        "\n",
        "dist_package_index = sys.path.index('/usr/local/lib/python3.6/dist-packages')\n",
        "sys.path = sys.path[:dist_package_index] + ['/usr/local/lib/python3.6/site-packages'] + sys.path[dist_package_index:]\n",
        "sys.path\n",
        "exec(open('rapidsai-csp-utils/colab/update_modules.py').read(), globals())"
      ],
      "execution_count": null,
      "outputs": [
        {
          "output_type": "stream",
          "text": [
            "fatal: destination path 'rapidsai-csp-utils' already exists and is not an empty directory.\n",
            "PLEASE READ\n",
            "********************************************************************************************************\n",
            "Changes:\n",
            "1. IMPORTANT CHANGES: RAPIDS on Colab will be pegged to 0.14 Stable until further notice.\n",
            "2. Default stable version is now 0.14.  Nightly will redirect to 0.14.\n",
            "3. You can now declare your RAPIDSAI version as a CLI option and skip the user prompts (ex: '0.14' or '0.15', between 0.13 to 0.14, without the quotes): \n",
            "        \"!bash rapidsai-csp-utils/colab/rapids-colab.sh <version/label>\"\n",
            "        Examples: '!bash rapidsai-csp-utils/colab/rapids-colab.sh 0.14', or '!bash rapidsai-csp-utils/colab/rapids-colab.sh stable', or '!bash rapidsai-csp-utils/colab/rapids-colab.sh s'\n",
            "                  '!bash rapidsai-csp-utils/colab/rapids-colab.sh 0.15, or '!bash rapidsai-csp-utils/colab/rapids-colab.sh nightly', or '!bash rapidsai-csp-utils/colab/rapids-colab.sh n'\n",
            "Enjoy using RAPIDS!  If you have any issues with or suggestions for RAPIDSAI on Colab, please create a bug request on https://github.com/rapidsai/rapidsai-csp-utils/issues/new.  Thanks!\n",
            "rapidsai-csp-utils/colab/rapids-colab.sh: line 121: 14: command not found\n",
            "RAPIDS Version to install is 0.14\n",
            "Checking for GPU type:\n",
            "***********************************************************************\n",
            "Woo! Your instance has the right kind of GPU, a 'Tesla T4'!\n",
            "***********************************************************************\n",
            "\n",
            "\n",
            "************************************************\n",
            "Your Google Colab instance has RAPIDS installed!\n",
            "************************************************\n",
            "***********************************************************************\n",
            "Let us check on those pyarrow and cffi versions...\n",
            "***********************************************************************\n",
            "\n",
            "You're don't have pyarrow.\n",
            "unloaded cffi 1.14.3\n",
            "loaded cffi 1.11.5\n"
          ],
          "name": "stdout"
        }
      ]
    },
    {
      "cell_type": "code",
      "metadata": {
        "id": "o71Zqiqtnw1J",
        "outputId": "3f973955-deea-4bf5-f385-e43357b6e663",
        "colab": {
          "base_uri": "https://localhost:8080/"
        }
      },
      "source": [
        "!conda install -c conda-forge pydicom\n",
        "!pip install dask-cuda"
      ],
      "execution_count": null,
      "outputs": [
        {
          "output_type": "stream",
          "text": [
            "Collecting package metadata (current_repodata.json): - \b\b\\ \b\b| \b\b/ \b\b- \b\b\\ \b\b| \b\b/ \b\b- \b\b\\ \b\b| \b\b/ \b\b- \b\b\\ \b\b| \b\b/ \b\b- \b\b\\ \b\b| \b\b/ \b\b- \b\b\\ \b\b| \b\bdone\n",
            "Solving environment: - \b\b\\ \b\b| \b\b/ \b\b- \b\b\\ \b\b| \b\b/ \b\b- \b\b\\ \b\b| \b\b/ \b\b- \b\b\\ \b\b| \b\b/ \b\b- \b\b\\ \b\b| \b\b/ \b\b- \b\b\\ \b\b| \b\b/ \b\b- \b\b\\ \b\b| \b\b/ \b\b- \b\b\\ \b\b| \b\b/ \b\b- \b\b\\ \b\b| \b\b/ \b\b- \b\b\\ \b\b| \b\b/ \b\b- \b\b\\ \b\bdone\n",
            "\n",
            "# All requested packages already installed.\n",
            "\n",
            "Requirement already satisfied: dask-cuda in /usr/local/lib/python3.6/site-packages (0.16.0)\n",
            "Requirement already satisfied: dask>=2.9.0 in /usr/local/lib/python3.6/site-packages (from dask-cuda) (2.30.0)\n",
            "Requirement already satisfied: distributed>=2.18.0 in /usr/local/lib/python3.6/site-packages (from dask-cuda) (2.30.1)\n",
            "Requirement already satisfied: numba>=0.40.1 in /usr/local/lib/python3.6/site-packages (from dask-cuda) (0.50.1)\n",
            "Requirement already satisfied: pynvml>=8.0.3 in /usr/local/lib/python3.6/site-packages (from dask-cuda) (8.0.4)\n",
            "Requirement already satisfied: numpy>=1.16.0 in /usr/local/lib/python3.6/site-packages (from dask-cuda) (1.19.4)\n",
            "Requirement already satisfied: pyyaml in /usr/local/lib/python3.6/site-packages (from dask>=2.9.0->dask-cuda) (5.3.1)\n",
            "Requirement already satisfied: sortedcontainers!=2.0.0,!=2.0.1 in /usr/local/lib/python3.6/site-packages (from distributed>=2.18.0->dask-cuda) (2.3.0)\n",
            "Requirement already satisfied: psutil>=5.0 in /usr/local/lib/python3.6/site-packages (from distributed>=2.18.0->dask-cuda) (5.7.3)\n",
            "Requirement already satisfied: click>=6.6 in /usr/local/lib/python3.6/site-packages (from distributed>=2.18.0->dask-cuda) (7.1.2)\n",
            "Requirement already satisfied: toolz>=0.8.2 in /usr/local/lib/python3.6/site-packages (from distributed>=2.18.0->dask-cuda) (0.11.1)\n",
            "Requirement already satisfied: tblib>=1.6.0 in /usr/local/lib/python3.6/site-packages (from distributed>=2.18.0->dask-cuda) (1.6.0)\n",
            "Requirement already satisfied: tornado>=5; python_version < \"3.8\" in /usr/local/lib/python3.6/site-packages (from distributed>=2.18.0->dask-cuda) (6.1)\n",
            "Requirement already satisfied: cloudpickle>=1.5.0 in /usr/local/lib/python3.6/site-packages (from distributed>=2.18.0->dask-cuda) (1.6.0)\n",
            "Requirement already satisfied: setuptools in /usr/local/lib/python3.6/site-packages (from distributed>=2.18.0->dask-cuda) (49.6.0.post20201009)\n",
            "Requirement already satisfied: zict>=0.1.3 in /usr/local/lib/python3.6/site-packages (from distributed>=2.18.0->dask-cuda) (2.0.0)\n",
            "Requirement already satisfied: contextvars; python_version < \"3.7\" in /usr/local/lib/python3.6/site-packages (from distributed>=2.18.0->dask-cuda) (2.4)\n",
            "Requirement already satisfied: msgpack>=0.6.0 in /usr/local/lib/python3.6/site-packages (from distributed>=2.18.0->dask-cuda) (1.0.0)\n",
            "Requirement already satisfied: llvmlite<0.34,>=0.33.0.dev0 in /usr/local/lib/python3.6/site-packages (from numba>=0.40.1->dask-cuda) (0.33.0)\n",
            "Requirement already satisfied: heapdict in /usr/local/lib/python3.6/site-packages (from zict>=0.1.3->distributed>=2.18.0->dask-cuda) (1.0.1)\n",
            "Requirement already satisfied: immutables>=0.9 in /usr/local/lib/python3.6/site-packages (from contextvars; python_version < \"3.7\"->distributed>=2.18.0->dask-cuda) (0.14)\n"
          ],
          "name": "stdout"
        }
      ]
    },
    {
      "cell_type": "code",
      "metadata": {
        "id": "gwlwCxccnp9Q",
        "outputId": "9d923064-2555-4d6d-ff8c-3a536fafe6ce",
        "colab": {
          "base_uri": "https://localhost:8080/",
          "height": 85
        }
      },
      "source": [
        "# Regular Libraries\n",
        "import os\n",
        "import pandas as pd\n",
        "import numpy as np\n",
        "import seaborn as sns\n",
        "import matplotlib.pyplot as plt\n",
        "%matplotlib inline\n",
        "import matplotlib.image as mpimg\n",
        "from tabulate import tabulate\n",
        "import missingno as msno \n",
        "from IPython.display import display_html\n",
        "from PIL import Image\n",
        "import gc\n",
        "import cv2\n",
        "from scipy.stats import pearsonr\n",
        "import tqdm\n",
        "\n",
        "import pydicom # for DICOM images\n",
        "from skimage.transform import resize\n",
        "import copy\n",
        "import re\n",
        "\n",
        "import warnings\n",
        "warnings.filterwarnings(\"ignore\", category=DeprecationWarning)\n",
        "warnings.filterwarnings(\"ignore\", category=UserWarning)\n",
        "warnings.filterwarnings(\"ignore\", category=FutureWarning)\n",
        "\n",
        "# Color Palette\n",
        "custom_colors = ['#00FFE2', '#00FDFF', '#00BCFF', '#0082FF', '#8000FF', '#B300FF', '#F400FF']\n",
        "sns.palplot(sns.color_palette(custom_colors))\n",
        "\n",
        "# Set Style\n",
        "sns.set_style(\"whitegrid\")\n",
        "sns.despine(left=True, bottom=True)\n",
        "\n",
        "# Set tick size\n",
        "plt.rc('xtick',labelsize=12)\n",
        "plt.rc('ytick',labelsize=12)"
      ],
      "execution_count": null,
      "outputs": [
        {
          "output_type": "display_data",
          "data": {
            "image/png": "[encoded data removed]",
            "text/plain": [
              "<Figure size 504x72 with 1 Axes>"
            ]
          },
          "metadata": {
            "tags": [],
            "needs_background": "light"
          }
        }
      ]
    },
    {
      "cell_type": "code",
      "metadata": {
        "id": "EdWYtjClnqM3",
        "outputId": "657b2573-f276-4c8a-d444-0235d6afbf52",
        "colab": {
          "base_uri": "https://localhost:8080/",
          "height": 271
        }
      },
      "source": [
        "# Rapids Imports\n",
        "import cudf\n",
        "import cupy # CuPy is an open-source array library accelerated with NVIDIA CUDA.\n",
        "\n",
        "from dask.distributed import Client, wait\n",
        "from dask_cuda import LocalCUDACluster\n",
        "\n",
        "cluster = LocalCUDACluster()\n",
        "client = Client(cluster)\n",
        "client"
      ],
      "execution_count": null,
      "outputs": [
        {
          "output_type": "stream",
          "text": [
            "/usr/local/lib/python3.6/site-packages/distributed/client.py:1129: VersionMismatchWarning: Mismatched versions found\n",
            "\n",
            "+---------+--------+-----------+---------+\n",
            "| Package | client | scheduler | workers |\n",
            "+---------+--------+-----------+---------+\n",
            "| numpy   | 1.18.5 | 1.18.5    | 1.19.4  |\n",
            "| tornado | 5.1.1  | 5.1.1     | 6.1     |\n",
            "+---------+--------+-----------+---------+\n",
            "  warnings.warn(version_module.VersionMismatchWarning(msg[0][\"warning\"]))\n"
          ],
          "name": "stderr"
        },
        {
          "output_type": "execute_result",
          "data": {
            "text/html": [
              "<table style=\"border: 2px solid white;\">\n",
              "<tr>\n",
              "<td style=\"vertical-align: top; border: 0px solid white\">\n",
              "<h3 style=\"text-align: left;\">Client</h3>\n",
              "<ul style=\"text-align: left; list-style: none; margin: 0; padding: 0;\">\n",
              "  <li><b>Scheduler: </b>tcp://127.0.0.1:42743</li>\n",
              "  <li><b>Dashboard: </b><a href='http://127.0.0.1:8787/status' target='_blank'>http://127.0.0.1:8787/status</a></li>\n",
              "</ul>\n",
              "</td>\n",
              "<td style=\"vertical-align: top; border: 0px solid white\">\n",
              "<h3 style=\"text-align: left;\">Cluster</h3>\n",
              "<ul style=\"text-align: left; list-style:none; margin: 0; padding: 0;\">\n",
              "  <li><b>Workers: </b>1</li>\n",
              "  <li><b>Cores: </b>1</li>\n",
              "  <li><b>Memory: </b>13.65 GB</li>\n",
              "</ul>\n",
              "</td>\n",
              "</tr>\n",
              "</table>"
            ],
            "text/plain": [
              "<Client: 'tcp://127.0.0.1:42743' processes=1 threads=1, memory=13.65 GB>"
            ]
          },
          "metadata": {
            "tags": []
          },
          "execution_count": 4
        }
      ]
    },
    {
      "cell_type": "code",
      "metadata": {
        "id": "lHctcOcr4Z0R",
        "outputId": "8c7c7c91-fba6-4604-b95f-df4de22f0aef",
        "colab": {
          "base_uri": "https://localhost:8080/"
        }
      },
      "source": [
        "# memory footprint support libraries/code\n",
        "!ln -sf /opt/bin/nvidia-smi /usr/bin/nvidia-smi\n",
        "!pip install gputil\n",
        "!pip install psutil\n",
        "!pip install humanize\n",
        "\n",
        "import psutil\n",
        "import humanize\n",
        "import os\n",
        "import GPUtil as GPU\n",
        "\n",
        "GPUs = GPU.getGPUs()\n",
        "# XXX: only one GPU on Colab and isn’t guaranteed\n",
        "gpu = GPUs[0]\n",
        "def printm():\n",
        "    process = psutil.Process(os.getpid())\n",
        "    print(\"Gen RAM Free: \" + humanize.naturalsize(psutil.virtual_memory().available), \" | Proc size: \" + humanize.naturalsize(process.memory_info().rss))\n",
        "    print(\"GPU RAM Free: {0:.0f}MB | Used: {1:.0f}MB | Util {2:3.0f}% | Total     {3:.0f}MB\".format(gpu.memoryFree, gpu.memoryUsed, gpu.memoryUtil*100, gpu.memoryTotal))\n",
        "printm()"
      ],
      "execution_count": null,
      "outputs": [
        {
          "output_type": "stream",
          "text": [
            "Requirement already satisfied: gputil in /usr/local/lib/python3.6/site-packages (1.4.0)\n",
            "Requirement already satisfied: psutil in /usr/local/lib/python3.6/site-packages (5.7.3)\n",
            "Requirement already satisfied: humanize in /usr/local/lib/python3.6/site-packages (3.1.0)\n",
            "Requirement already satisfied: setuptools in /usr/local/lib/python3.6/site-packages (from humanize) (49.6.0.post20201009)\n",
            "Gen RAM Free: 12.3 GB  | Proc size: 484.3 MB\n",
            "GPU RAM Free: 14871MB | Used: 208MB | Util   1% | Total     15079MB\n"
          ],
          "name": "stdout"
        }
      ]
    },
    {
      "cell_type": "code",
      "metadata": {
        "id": "-2GTnkTc9F71",
        "outputId": "541c2995-3945-438b-e71f-d88e2bdea861",
        "colab": {
          "base_uri": "https://localhost:8080/"
        }
      },
      "source": [
        "printm()"
      ],
      "execution_count": null,
      "outputs": [
        {
          "output_type": "stream",
          "text": [
            "Gen RAM Free: 12.3 GB  | Proc size: 484.3 MB\n",
            "GPU RAM Free: 14871MB | Used: 208MB | Util   1% | Total     15079MB\n"
          ],
          "name": "stdout"
        }
      ]
    },
    {
      "cell_type": "markdown",
      "metadata": {
        "id": "79wChuhFo5Lh"
      },
      "source": [
        "# **EDA**"
      ]
    },
    {
      "cell_type": "markdown",
      "metadata": {
        "id": "oioXJESx-fP4"
      },
      "source": [
        "## **Common**"
      ]
    },
    {
      "cell_type": "code",
      "metadata": {
        "id": "7yc-l_3o-jmu"
      },
      "source": [
        "def distplot_features(df, feature, title, color = custom_colors[4], categorical=True):\n",
        "    '''Takes a column from the GPU dataframe and plots the distribution (after count).'''\n",
        "    \n",
        "    if categorical:\n",
        "        values = cupy.asnumpy(df[feature].value_counts().values)\n",
        "    else:\n",
        "        values = cupy.asnumpy(df[feature].values)\n",
        "        \n",
        "    print('Mean: {:,}'.format(np.mean(values)), \"\\n\"\n",
        "          'Median: {:,}'.format(np.median(values)), \"\\n\",\n",
        "          'Std: {:,}'.format(np.std(values)), \"\\n\",\n",
        "          'Max: {:,}'.format(np.max(values)))\n",
        "\n",
        "    \n",
        "    plt.figure(figsize = (18, 5))\n",
        "    \n",
        "    if categorical:\n",
        "        sns.distplot(values, hist=False, color = color, kde_kws = {'lw':3})\n",
        "    else:\n",
        "        # To speed up the process\n",
        "        sns.distplot(values[::250000], hist=False, color = color, kde_kws = {'lw':3})\n",
        "    \n",
        "    plt.title(title, fontsize=15)\n",
        "    plt.show();\n",
        "    \n",
        "    del values\n",
        "    gc.collect()"
      ],
      "execution_count": null,
      "outputs": []
    },
    {
      "cell_type": "code",
      "metadata": {
        "id": "PzwcVlIR-j7o"
      },
      "source": [
        "def barplot_features(df, feature, title, palette = custom_colors[2:]):\n",
        "    '''Takes the numerical columns (with less than 10 categories) and plots the barplot.'''\n",
        "    \n",
        "    # We need to extract both the name of the category and the no. of appearences\n",
        "    index = cupy.asnumpy(df[feature].value_counts().reset_index()[\"index\"].values)\n",
        "    values = cupy.asnumpy(df[feature].value_counts().reset_index()[feature].values) \n",
        "\n",
        "    plt.figure(figsize = (18, 3))\n",
        "    sns.barplot(x = index, y = values, palette = custom_colors[2:])\n",
        "    plt.title(title, fontsize=15)\n",
        "    plt.show();\n",
        "    \n",
        "    del index, values\n",
        "    gc.collect()"
      ],
      "execution_count": null,
      "outputs": []
    },
    {
      "cell_type": "markdown",
      "metadata": {
        "id": "rJQhVqXY-H6w"
      },
      "source": [
        "## **Train**"
      ]
    },
    {
      "cell_type": "code",
      "metadata": {
        "id": "alaDw0booqFT",
        "outputId": "798fc1cc-8685-4509-bdc6-b43d9a3458a6",
        "colab": {
          "base_uri": "https://localhost:8080/"
        }
      },
      "source": [
        "%%time\n",
        "\n",
        "# Read in data\n",
        "dtypes = {\n",
        "    \"row_id\": \"int64\",\n",
        "    \"timestamp\": \"int64\",\n",
        "    \"user_id\": \"int32\",\n",
        "    \"content_id\": \"int16\",\n",
        "    \"content_type_id\": \"boolean\",\n",
        "    \"task_container_id\": \"int16\",\n",
        "    \"user_answer\": \"int8\",\n",
        "    \"answered_correctly\": \"int8\",\n",
        "    \"prior_question_elapsed_time\": \"float32\", \n",
        "    \"prior_question_had_explanation\": \"int8\"\n",
        "}\n",
        "\n",
        "train = cudf.read_parquet('data/train.parquet', dtype=dtypes)\n"
      ],
      "execution_count": null,
      "outputs": [
        {
          "output_type": "stream",
          "text": [
            "CPU times: user 1.83 s, sys: 1.08 s, total: 2.91 s\n",
            "Wall time: 32.7 s\n"
          ],
          "name": "stdout"
        }
      ]
    },
    {
      "cell_type": "code",
      "metadata": {
        "id": "1Q19TE11op5d",
        "outputId": "a97b2451-4b4a-4529-86ee-1aa249544dd6",
        "colab": {
          "base_uri": "https://localhost:8080/",
          "height": 272
        }
      },
      "source": [
        "# Data Information\n",
        "print(\"Rows: {:,}\".format(len(train)), \"\\n\" +\n",
        "      \"Columns: {}\".format(len(train.columns)))\n",
        "\n",
        "# Find Missing Data if any\n",
        "total = len(train)\n",
        "\n",
        "for column in train.columns:\n",
        "    if train[column].isna().sum() != 0:\n",
        "        print(\"{} has: {:,} ({:.2}%) missing values.\".format(column, train[column].isna().sum(), \n",
        "                                                             (train[column].isna().sum()/total)*100))\n",
        "        \n",
        "        \n",
        "# Fill in missing values with \"-1\"\n",
        "train[\"prior_question_elapsed_time\"] = train[\"prior_question_elapsed_time\"].fillna(-1)\n",
        "train[\"prior_question_had_explanation\"] = train[\"prior_question_had_explanation\"].fillna(-1)\n",
        "\n",
        "train.head()"
      ],
      "execution_count": null,
      "outputs": [
        {
          "output_type": "stream",
          "text": [
            "Rows: 101,230,332 \n",
            "Columns: 9\n",
            "prior_question_elapsed_time has: 2,351,538 (2.3%) missing values.\n",
            "prior_question_had_explanation has: 392,506 (0.39%) missing values.\n"
          ],
          "name": "stdout"
        },
        {
          "output_type": "execute_result",
          "data": {
            "text/html": [
              "<div>\n",
              "<style scoped>\n",
              "    .dataframe tbody tr th:only-of-type {\n",
              "        vertical-align: middle;\n",
              "    }\n",
              "\n",
              "    .dataframe tbody tr th {\n",
              "        vertical-align: top;\n",
              "    }\n",
              "\n",
              "    .dataframe thead th {\n",
              "        text-align: right;\n",
              "    }\n",
              "</style>\n",
              "<table border=\"1\" class=\"dataframe\">\n",
              "  <thead>\n",
              "    <tr style=\"text-align: right;\">\n",
              "      <th></th>\n",
              "      <th>timestamp</th>\n",
              "      <th>user_id</th>\n",
              "      <th>content_id</th>\n",
              "      <th>content_type_id</th>\n",
              "      <th>task_container_id</th>\n",
              "      <th>user_answer</th>\n",
              "      <th>answered_correctly</th>\n",
              "      <th>prior_question_elapsed_time</th>\n",
              "      <th>prior_question_had_explanation</th>\n",
              "    </tr>\n",
              "  </thead>\n",
              "  <tbody>\n",
              "    <tr>\n",
              "      <th>0</th>\n",
              "      <td>0</td>\n",
              "      <td>115</td>\n",
              "      <td>5692</td>\n",
              "      <td>False</td>\n",
              "      <td>1</td>\n",
              "      <td>3</td>\n",
              "      <td>1</td>\n",
              "      <td>-1.0</td>\n",
              "      <td>-1</td>\n",
              "    </tr>\n",
              "    <tr>\n",
              "      <th>1</th>\n",
              "      <td>56943</td>\n",
              "      <td>115</td>\n",
              "      <td>5716</td>\n",
              "      <td>False</td>\n",
              "      <td>2</td>\n",
              "      <td>2</td>\n",
              "      <td>1</td>\n",
              "      <td>37000.0</td>\n",
              "      <td>0</td>\n",
              "    </tr>\n",
              "    <tr>\n",
              "      <th>2</th>\n",
              "      <td>118363</td>\n",
              "      <td>115</td>\n",
              "      <td>128</td>\n",
              "      <td>False</td>\n",
              "      <td>0</td>\n",
              "      <td>0</td>\n",
              "      <td>1</td>\n",
              "      <td>55000.0</td>\n",
              "      <td>0</td>\n",
              "    </tr>\n",
              "    <tr>\n",
              "      <th>3</th>\n",
              "      <td>131167</td>\n",
              "      <td>115</td>\n",
              "      <td>7860</td>\n",
              "      <td>False</td>\n",
              "      <td>3</td>\n",
              "      <td>0</td>\n",
              "      <td>1</td>\n",
              "      <td>19000.0</td>\n",
              "      <td>0</td>\n",
              "    </tr>\n",
              "    <tr>\n",
              "      <th>4</th>\n",
              "      <td>137965</td>\n",
              "      <td>115</td>\n",
              "      <td>7922</td>\n",
              "      <td>False</td>\n",
              "      <td>4</td>\n",
              "      <td>1</td>\n",
              "      <td>1</td>\n",
              "      <td>11000.0</td>\n",
              "      <td>0</td>\n",
              "    </tr>\n",
              "  </tbody>\n",
              "</table>\n",
              "</div>"
            ],
            "text/plain": [
              "   timestamp  ...  prior_question_had_explanation\n",
              "0          0  ...                              -1\n",
              "1      56943  ...                               0\n",
              "2     118363  ...                               0\n",
              "3     131167  ...                               0\n",
              "4     137965  ...                               0\n",
              "\n",
              "[5 rows x 9 columns]"
            ]
          },
          "metadata": {
            "tags": []
          },
          "execution_count": 51
        }
      ]
    },
    {
      "cell_type": "code",
      "metadata": {
        "id": "X8qy6w7qvPrE",
        "outputId": "312675b6-d29f-4034-afa8-4fd9b17c70b2",
        "colab": {
          "base_uri": "https://localhost:8080/",
          "height": 817
        }
      },
      "source": [
        "numerical_features = ['timestamp', 'prior_question_elapsed_time']\n",
        "\n",
        "for feature in numerical_features:\n",
        "    distplot_features(train, feature=feature, title = feature + \" distribution\", color = custom_colors[1], categorical=False)"
      ],
      "execution_count": null,
      "outputs": [
        {
          "output_type": "stream",
          "text": [
            "Mean: 7,703,643,654.326523 \n",
            "Median: 2,674,233,764.5 \n",
            " Std: 11,592,655,251.266787 \n",
            " Max: 87,425,772,049\n"
          ],
          "name": "stdout"
        },
        {
          "output_type": "display_data",
          "data": {
            "image/png": "[encoded data removed]",
            "text/plain": [
              "<Figure size 1296x360 with 1 Axes>"
            ]
          },
          "metadata": {
            "tags": []
          }
        },
        {
          "output_type": "stream",
          "text": [
            "Mean: 24,833.234375 \n",
            "Median: 21,000.0 \n",
            " Std: 20,083.599609375 \n",
            " Max: 300,000.0\n"
          ],
          "name": "stdout"
        },
        {
          "output_type": "display_data",
          "data": {
            "image/png": "[encoded data removed]",
            "text/plain": [
              "<Figure size 1296x360 with 1 Axes>"
            ]
          },
          "metadata": {
            "tags": []
          }
        }
      ]
    },
    {
      "cell_type": "code",
      "metadata": {
        "id": "5Jmd-5clvQCV",
        "outputId": "f1bed7b1-476d-47cc-ab67-3dabade6b334",
        "colab": {
          "base_uri": "https://localhost:8080/",
          "height": 1000
        }
      },
      "source": [
        "categorical_features = ['user_id', 'content_id', 'task_container_id']\n",
        "\n",
        "for feature in categorical_features:\n",
        "    distplot_features(train, feature=feature, title = feature + \" countplot distribution\", color = custom_colors[4], categorical=True)"
      ],
      "execution_count": null,
      "outputs": [
        {
          "output_type": "stream",
          "text": [
            "Mean: 257.1542971528441 \n",
            "Median: 41.0 \n",
            " Std: 747.5499849153472 \n",
            " Max: 17,917\n"
          ],
          "name": "stdout"
        },
        {
          "output_type": "display_data",
          "data": {
            "image/png": "[encoded data removed]",
            "text/plain": [
              "<Figure size 1296x360 with 1 Axes>"
            ]
          },
          "metadata": {
            "tags": []
          }
        },
        {
          "output_type": "stream",
          "text": [
            "Mean: 7,345.111885067479 \n",
            "Median: 4,728.5 \n",
            " Std: 11,414.598139586467 \n",
            " Max: 213,605\n"
          ],
          "name": "stdout"
        },
        {
          "output_type": "display_data",
          "data": {
            "image/png": "[encoded data removed]",
            "text/plain": [
              "<Figure size 1296x360 with 1 Axes>"
            ]
          },
          "metadata": {
            "tags": []
          }
        },
        {
          "output_type": "stream",
          "text": [
            "Mean: 10,123.0332 \n",
            "Median: 1,318.0 \n",
            " Std: 32,867.07506393743 \n",
            " Max: 804,285\n"
          ],
          "name": "stdout"
        },
        {
          "output_type": "display_data",
          "data": {
            "image/png": "[encoded data removed]",
            "text/plain": [
              "<Figure size 1296x360 with 1 Axes>"
            ]
          },
          "metadata": {
            "tags": []
          }
        }
      ]
    },
    {
      "cell_type": "code",
      "metadata": {
        "id": "PbI-87ftvP34",
        "outputId": "87031bed-22b5-4d3f-c3c9-60ffe3dd6084",
        "colab": {
          "base_uri": "https://localhost:8080/",
          "height": 877
        }
      },
      "source": [
        "categorical_for_bar = ['content_type_id', 'user_answer', \n",
        "                       'answered_correctly', 'prior_question_had_explanation']\n",
        "\n",
        "for feature in categorical_for_bar:\n",
        "    barplot_features(train, feature=feature, title = feature + \" barplot\")"
      ],
      "execution_count": null,
      "outputs": [
        {
          "output_type": "display_data",
          "data": {
            "image/png": "[encoded data removed]",
            "text/plain": [
              "<Figure size 1296x216 with 1 Axes>"
            ]
          },
          "metadata": {
            "tags": []
          }
        },
        {
          "output_type": "display_data",
          "data": {
            "image/png": "[encoded data removed]",
            "text/plain": [
              "<Figure size 1296x216 with 1 Axes>"
            ]
          },
          "metadata": {
            "tags": []
          }
        },
        {
          "output_type": "display_data",
          "data": {
            "image/png": "[encoded data removed]",
            "text/plain": [
              "<Figure size 1296x216 with 1 Axes>"
            ]
          },
          "metadata": {
            "tags": []
          }
        },
        {
          "output_type": "display_data",
          "data": {
            "image/png": "[encoded data removed]",
            "text/plain": [
              "<Figure size 1296x216 with 1 Axes>"
            ]
          },
          "metadata": {
            "tags": []
          }
        }
      ]
    },
    {
      "cell_type": "code",
      "metadata": {
        "id": "kZR8tjkjvPkD",
        "outputId": "aad0643c-e09b-42c1-cc94-67c983512769",
        "colab": {
          "base_uri": "https://localhost:8080/"
        }
      },
      "source": [
        "# Total rows we started with\n",
        "total = len(train)\n",
        "feature = \"timestamp\"\n",
        "\n",
        "# Compute Outliers\n",
        "Q1 = cupy.percentile(train[feature].values, q = 25).item()\n",
        "Q3 = cupy.percentile(train[feature].values, q = 75).item()\n",
        "IQR = Q3 - Q1\n",
        "\n",
        "# We'll look only at the upper interval outliers\n",
        "outlier_boundry = Q3 + 1.5*IQR\n",
        "\n",
        "print('Timestamp: around {:.2}% of the data would be erased.'.format(len(train[train[feature] >= outlier_boundry])/total * 100), \n",
        "      \"\\n\"+\n",
        "      'The outlier boundry is {:,}, which means {:,.5} hrs, which means {:,.5} days.'.format(outlier_boundry, (outlier_boundry / 3.6e+6),\n",
        "                                                                                       (outlier_boundry / 3.6e+6)/24))\n",
        "\n",
        "gc.collect()"
      ],
      "execution_count": null,
      "outputs": [
        {
          "output_type": "stream",
          "text": [
            "Timestamp: around 9.4% of the data would be erased. \n",
            "The outlier boundry is 24,024,861,068.375, which means 6,673.6 hrs, which means 278.07 days.\n"
          ],
          "name": "stdout"
        },
        {
          "output_type": "execute_result",
          "data": {
            "text/plain": [
              "0"
            ]
          },
          "metadata": {
            "tags": []
          },
          "execution_count": 63
        }
      ]
    },
    {
      "cell_type": "code",
      "metadata": {
        "id": "lL_GYQf6vPEJ",
        "outputId": "d6cb471f-cc65-479b-ed73-d06e1cd77fb7",
        "colab": {
          "base_uri": "https://localhost:8080/"
        }
      },
      "source": [
        "# Select ids to erase\n",
        "ids_to_erase = train[\"user_id\"].value_counts().reset_index()[train[\"user_id\"].value_counts().reset_index()[\"user_id\"] < 5][\"index\"].values\n",
        "\n",
        "# Erase the ids\n",
        "new_train = train[~train['user_id'].isin(ids_to_erase)]\n",
        "\n",
        "print(\"We erased {} rows meaning {:.3}% of all data.\".format(len(train)-len(new_train), (1 - len(new_train)/len(train))*100))\n",
        "del ids_to_erase"
      ],
      "execution_count": null,
      "outputs": [
        {
          "output_type": "stream",
          "text": [
            "We erased 599 rows meaning 0.000592% of all data.\n"
          ],
          "name": "stdout"
        }
      ]
    },
    {
      "cell_type": "code",
      "metadata": {
        "id": "LhezfrSc1I9n"
      },
      "source": [
        "# Count how many times the user answered correctly out of all available times\n",
        "user_performance = train.groupby(\"user_id\").agg({ 'answered_correctly': ['count', 'sum'] }).reset_index()\n",
        "user_performance.columns = [\"user_id\", \"total_count\", \"correct_count\"]\n",
        "user_performance[\"performance\"] = user_performance[\"correct_count\"] / user_performance[\"total_count\"]\n",
        "\n",
        "# Create intervals for number of appearences\n",
        "# between 0 and 1000, 1000 and 2500 and 2500+\n",
        "def condition(x):\n",
        "    if x <= 1000:\n",
        "        return 0\n",
        "    elif (x > 1000) & (x <= 2500):\n",
        "        return 1\n",
        "    else:\n",
        "        return 2\n",
        "    \n",
        "user_performance[\"total_interval\"] = user_performance[\"total_count\"].applymap(condition)"
      ],
      "execution_count": null,
      "outputs": []
    },
    {
      "cell_type": "code",
      "metadata": {
        "id": "xUvJE4NS3siy",
        "outputId": "f32353f8-7862-4012-c3b6-b2d568b83c69",
        "colab": {
          "base_uri": "https://localhost:8080/",
          "height": 286
        }
      },
      "source": [
        "# Convert to numpy arrays (so we can plot)\n",
        "x = cupy.asnumpy(user_performance[\"total_interval\"].values)\n",
        "y = cupy.asnumpy(user_performance[\"performance\"].values)\n",
        "\n",
        "# Plot\n",
        "plt.figure(figsize = (18, 4))\n",
        "sns.barplot(x = x, y = y, palette = custom_colors[1:])\n",
        "plt.title(\"Performance over number of appearences\", fontsize = 15)\n",
        "plt.xticks([0, 1, 2], ['<1000', '1000-2500', '2500+']);\n"
      ],
      "execution_count": null,
      "outputs": [
        {
          "output_type": "display_data",
          "data": {
            "image/png": "[encoded data removed]",
            "text/plain": [
              "<Figure size 1296x288 with 1 Axes>"
            ]
          },
          "metadata": {
            "tags": []
          }
        }
      ]
    },
    {
      "cell_type": "code",
      "metadata": {
        "id": "7lSf6IkV1JNp"
      },
      "source": [
        "# Checkpoint: save to .parquet\n",
        "new_train.to_parquet('new_train.parquet')"
      ],
      "execution_count": null,
      "outputs": []
    },
    {
      "cell_type": "code",
      "metadata": {
        "id": "JWXQbJAC9QxZ",
        "outputId": "b2dbc888-7d3d-4cb6-e496-83e503b9a057",
        "colab": {
          "base_uri": "https://localhost:8080/"
        }
      },
      "source": [
        "# Clean the environment\n",
        "del train, new_train\n",
        "gc.collect()"
      ],
      "execution_count": null,
      "outputs": [
        {
          "output_type": "execute_result",
          "data": {
            "text/plain": [
              "59"
            ]
          },
          "metadata": {
            "tags": []
          },
          "execution_count": 14
        }
      ]
    },
    {
      "cell_type": "markdown",
      "metadata": {
        "id": "C3CqKS6h-QGq"
      },
      "source": [
        "## **Questions**"
      ]
    },
    {
      "cell_type": "code",
      "metadata": {
        "id": "Eqdf5rth9uXl",
        "outputId": "6fba8fb5-3cd6-4e70-cbb1-3b9a240e044e",
        "colab": {
          "base_uri": "https://localhost:8080/",
          "height": 255
        }
      },
      "source": [
        "questions = cudf.read_csv('data/questions.csv')\n",
        "\n",
        "# Data Information\n",
        "print(\"Rows: {:,}\".format(len(questions)), \"\\n\" +\n",
        "      \"Columns: {}\".format(len(questions.columns)))\n",
        "\n",
        "# Find Missing Data if any\n",
        "total = len(questions)\n",
        "\n",
        "for column in questions.columns:\n",
        "    if questions[column].isna().sum() != 0:\n",
        "        print(\"{} has: {:,} ({:.2}%) missing values.\".format(column, questions[column].isna().sum(), \n",
        "                                                             (questions[column].isna().sum()/total)*100))\n",
        "        \n",
        "        \n",
        "# Fill in missing values with \"-1\"\n",
        "questions[\"tags\"] = questions[\"tags\"].fillna(-1)\n",
        "\n",
        "questions.head()"
      ],
      "execution_count": null,
      "outputs": [
        {
          "output_type": "stream",
          "text": [
            "Rows: 13,523 \n",
            "Columns: 5\n",
            "tags has: 1 (0.0074%) missing values.\n"
          ],
          "name": "stdout"
        },
        {
          "output_type": "execute_result",
          "data": {
            "text/html": [
              "<div>\n",
              "<style scoped>\n",
              "    .dataframe tbody tr th:only-of-type {\n",
              "        vertical-align: middle;\n",
              "    }\n",
              "\n",
              "    .dataframe tbody tr th {\n",
              "        vertical-align: top;\n",
              "    }\n",
              "\n",
              "    .dataframe thead th {\n",
              "        text-align: right;\n",
              "    }\n",
              "</style>\n",
              "<table border=\"1\" class=\"dataframe\">\n",
              "  <thead>\n",
              "    <tr style=\"text-align: right;\">\n",
              "      <th></th>\n",
              "      <th>question_id</th>\n",
              "      <th>bundle_id</th>\n",
              "      <th>correct_answer</th>\n",
              "      <th>part</th>\n",
              "      <th>tags</th>\n",
              "    </tr>\n",
              "  </thead>\n",
              "  <tbody>\n",
              "    <tr>\n",
              "      <th>0</th>\n",
              "      <td>0</td>\n",
              "      <td>0</td>\n",
              "      <td>0</td>\n",
              "      <td>1</td>\n",
              "      <td>51 131 162 38</td>\n",
              "    </tr>\n",
              "    <tr>\n",
              "      <th>1</th>\n",
              "      <td>1</td>\n",
              "      <td>1</td>\n",
              "      <td>1</td>\n",
              "      <td>1</td>\n",
              "      <td>131 36 81</td>\n",
              "    </tr>\n",
              "    <tr>\n",
              "      <th>2</th>\n",
              "      <td>2</td>\n",
              "      <td>2</td>\n",
              "      <td>0</td>\n",
              "      <td>1</td>\n",
              "      <td>131 101 162 92</td>\n",
              "    </tr>\n",
              "    <tr>\n",
              "      <th>3</th>\n",
              "      <td>3</td>\n",
              "      <td>3</td>\n",
              "      <td>0</td>\n",
              "      <td>1</td>\n",
              "      <td>131 149 162 29</td>\n",
              "    </tr>\n",
              "    <tr>\n",
              "      <th>4</th>\n",
              "      <td>4</td>\n",
              "      <td>4</td>\n",
              "      <td>3</td>\n",
              "      <td>1</td>\n",
              "      <td>131 5 162 38</td>\n",
              "    </tr>\n",
              "  </tbody>\n",
              "</table>\n",
              "</div>"
            ],
            "text/plain": [
              "   question_id  bundle_id  correct_answer  part            tags\n",
              "0            0          0               0     1   51 131 162 38\n",
              "1            1          1               1     1       131 36 81\n",
              "2            2          2               0     1  131 101 162 92\n",
              "3            3          3               0     1  131 149 162 29\n",
              "4            4          4               3     1    131 5 162 38"
            ]
          },
          "metadata": {
            "tags": []
          },
          "execution_count": 17
        }
      ]
    },
    {
      "cell_type": "code",
      "metadata": {
        "id": "6gx44ATA9_On",
        "outputId": "92dc378e-5b39-47d3-ab40-ebe42750377f",
        "colab": {
          "base_uri": "https://localhost:8080/"
        }
      },
      "source": [
        "# ----- question_id -----\n",
        "\n",
        "# The table contains an equal number of IDs for each question\n",
        "print('There is a total of {:,} IDs.'.format(len(questions['question_id'].value_counts())), \"\\n\")\n",
        "\n",
        "# ----- bundle_id -----\n",
        "print('There are {:,} unique bundle IDs.'.format(questions['bundle_id'].nunique()))"
      ],
      "execution_count": null,
      "outputs": [
        {
          "output_type": "stream",
          "text": [
            "There is a total of 13,523 IDs. \n",
            "\n",
            "There are 9,765 unique bundle IDs.\n"
          ],
          "name": "stdout"
        }
      ]
    },
    {
      "cell_type": "code",
      "metadata": {
        "id": "GqWjkRTO9_ud",
        "outputId": "8a7891b4-2743-41d1-a655-9412766b8b91",
        "colab": {
          "base_uri": "https://localhost:8080/",
          "height": 447
        }
      },
      "source": [
        "# ----- part & correct_answer -----\n",
        "\n",
        "for feature in ['part', 'correct_answer']:\n",
        "    barplot_features(questions, feature=feature, title=feature + \" - barplot distribution\")"
      ],
      "execution_count": null,
      "outputs": [
        {
          "output_type": "display_data",
          "data": {
            "image/png": "[encoded data removed]",
            "text/plain": [
              "<Figure size 1296x216 with 1 Axes>"
            ]
          },
          "metadata": {
            "tags": []
          }
        },
        {
          "output_type": "display_data",
          "data": {
            "image/png": "[encoded data removed]",
            "text/plain": [
              "<Figure size 1296x216 with 1 Axes>"
            ]
          },
          "metadata": {
            "tags": []
          }
        }
      ]
    },
    {
      "cell_type": "code",
      "metadata": {
        "id": "mL6aPHD3-way",
        "outputId": "9ead909e-99d8-431e-9b85-d5ec61cca1cf",
        "colab": {
          "base_uri": "https://localhost:8080/",
          "height": 409
        }
      },
      "source": [
        "# ----- tags -----\n",
        "distplot_features(questions, 'tags', title = \"Tags - Count Distribution\", color = custom_colors[0], categorical=True)"
      ],
      "execution_count": null,
      "outputs": [
        {
          "output_type": "stream",
          "text": [
            "Mean: 8.89671052631579 \n",
            "Median: 2.0 \n",
            " Std: 36.950204610506695 \n",
            " Max: 738\n"
          ],
          "name": "stdout"
        },
        {
          "output_type": "display_data",
          "data": {
            "image/png": "[encoded data removed]",
            "text/plain": [
              "<Figure size 1296x360 with 1 Axes>"
            ]
          },
          "metadata": {
            "tags": []
          }
        }
      ]
    },
    {
      "cell_type": "code",
      "metadata": {
        "id": "lpcXGWyg-2P7"
      },
      "source": [
        "# Checkpoint: save to parquet\n",
        "questions.to_parquet('questions.parquet')"
      ],
      "execution_count": null,
      "outputs": []
    },
    {
      "cell_type": "code",
      "metadata": {
        "id": "ceHe8_z7-2Dc",
        "outputId": "19b28b0e-d0a4-4e65-83b7-730a4a3bea79",
        "colab": {
          "base_uri": "https://localhost:8080/"
        }
      },
      "source": [
        "del questions\n",
        "gc.collect()"
      ],
      "execution_count": null,
      "outputs": [
        {
          "output_type": "execute_result",
          "data": {
            "text/plain": [
              "0"
            ]
          },
          "metadata": {
            "tags": []
          },
          "execution_count": 25
        }
      ]
    },
    {
      "cell_type": "markdown",
      "metadata": {
        "id": "npoZYEhl-5q0"
      },
      "source": [
        "## **Lectures**"
      ]
    },
    {
      "cell_type": "code",
      "metadata": {
        "id": "ne-5azq--AE2",
        "outputId": "ae88ac92-11bb-441f-9f1c-7a33e0950f8c",
        "colab": {
          "base_uri": "https://localhost:8080/",
          "height": 238
        }
      },
      "source": [
        "lectures = cudf.read_csv('data/lectures.csv')\n",
        "\n",
        "# Encode 'type_of' column\n",
        "lectures.type_of,codes = lectures['type_of'].factorize()\n",
        "\n",
        "# Data Information\n",
        "print(\"Rows: {:,}\".format(len(lectures)), \"\\n\" +\n",
        "      \"Columns: {}\".format(len(lectures.columns)))\n",
        "lectures.head()"
      ],
      "execution_count": null,
      "outputs": [
        {
          "output_type": "stream",
          "text": [
            "Rows: 418 \n",
            "Columns: 4\n"
          ],
          "name": "stdout"
        },
        {
          "output_type": "execute_result",
          "data": {
            "text/html": [
              "<div>\n",
              "<style scoped>\n",
              "    .dataframe tbody tr th:only-of-type {\n",
              "        vertical-align: middle;\n",
              "    }\n",
              "\n",
              "    .dataframe tbody tr th {\n",
              "        vertical-align: top;\n",
              "    }\n",
              "\n",
              "    .dataframe thead th {\n",
              "        text-align: right;\n",
              "    }\n",
              "</style>\n",
              "<table border=\"1\" class=\"dataframe\">\n",
              "  <thead>\n",
              "    <tr style=\"text-align: right;\">\n",
              "      <th></th>\n",
              "      <th>lecture_id</th>\n",
              "      <th>tag</th>\n",
              "      <th>part</th>\n",
              "      <th>type_of</th>\n",
              "    </tr>\n",
              "  </thead>\n",
              "  <tbody>\n",
              "    <tr>\n",
              "      <th>0</th>\n",
              "      <td>89</td>\n",
              "      <td>159</td>\n",
              "      <td>5</td>\n",
              "      <td>0</td>\n",
              "    </tr>\n",
              "    <tr>\n",
              "      <th>1</th>\n",
              "      <td>100</td>\n",
              "      <td>70</td>\n",
              "      <td>1</td>\n",
              "      <td>0</td>\n",
              "    </tr>\n",
              "    <tr>\n",
              "      <th>2</th>\n",
              "      <td>185</td>\n",
              "      <td>45</td>\n",
              "      <td>6</td>\n",
              "      <td>0</td>\n",
              "    </tr>\n",
              "    <tr>\n",
              "      <th>3</th>\n",
              "      <td>192</td>\n",
              "      <td>79</td>\n",
              "      <td>5</td>\n",
              "      <td>2</td>\n",
              "    </tr>\n",
              "    <tr>\n",
              "      <th>4</th>\n",
              "      <td>317</td>\n",
              "      <td>156</td>\n",
              "      <td>5</td>\n",
              "      <td>2</td>\n",
              "    </tr>\n",
              "  </tbody>\n",
              "</table>\n",
              "</div>"
            ],
            "text/plain": [
              "   lecture_id  tag  part  type_of\n",
              "0          89  159     5        0\n",
              "1         100   70     1        0\n",
              "2         185   45     6        0\n",
              "3         192   79     5        2\n",
              "4         317  156     5        2"
            ]
          },
          "metadata": {
            "tags": []
          },
          "execution_count": 30
        }
      ]
    },
    {
      "cell_type": "code",
      "metadata": {
        "id": "XLillOH29_7v",
        "outputId": "f2fcd2fb-0439-46af-c3b2-325b61d75dd6",
        "colab": {
          "base_uri": "https://localhost:8080/"
        }
      },
      "source": [
        "# ----- lecture_id -----\n",
        "# The table contains an equal number of IDs for each question\n",
        "print('There is a total of {:,} IDs.'.format(len(lectures['lecture_id'].value_counts())), \"\\n\")\n",
        "\n",
        "# There are 151 unique tags\n",
        "print('There are a total of {:,} unique tags IDs.'.format(len(lectures['tag'].value_counts())))"
      ],
      "execution_count": null,
      "outputs": [
        {
          "output_type": "stream",
          "text": [
            "There is a total of 418 IDs. \n",
            "\n",
            "There are a total of 151 unique tags IDs.\n"
          ],
          "name": "stdout"
        }
      ]
    },
    {
      "cell_type": "code",
      "metadata": {
        "id": "l3HaUIkw_WO7",
        "outputId": "933cd6a5-78a4-4eff-d569-15e7e1608730",
        "colab": {
          "base_uri": "https://localhost:8080/",
          "height": 447
        }
      },
      "source": [
        "for feature in ['part', 'type_of']:\n",
        "    barplot_features(lectures, feature=feature, title=feature + \" - barplot distribution\")"
      ],
      "execution_count": null,
      "outputs": [
        {
          "output_type": "display_data",
          "data": {
            "image/png": "[encoded data removed]",
            "text/plain": [
              "<Figure size 1296x216 with 1 Axes>"
            ]
          },
          "metadata": {
            "tags": []
          }
        },
        {
          "output_type": "display_data",
          "data": {
            "image/png": "[encoded data removed]",
            "text/plain": [
              "<Figure size 1296x216 with 1 Axes>"
            ]
          },
          "metadata": {
            "tags": []
          }
        }
      ]
    },
    {
      "cell_type": "markdown",
      "metadata": {
        "id": "-ft5r-PF_vbd"
      },
      "source": [
        "# **Process Data**"
      ]
    },
    {
      "cell_type": "code",
      "metadata": {
        "id": "wnHDsi1sI78x"
      },
      "source": [
        "!/opt/bin/nvidia-smi\n",
        "!ps -aux|grep python"
      ],
      "execution_count": null,
      "outputs": []
    },
    {
      "cell_type": "code",
      "metadata": {
        "id": "lCsiz4wrMxqD",
        "outputId": "6fc623dd-9de0-4387-ba51-5c5a9223484a",
        "colab": {
          "base_uri": "https://localhost:8080/"
        }
      },
      "source": [
        "!kill -9 15627  "
      ],
      "execution_count": null,
      "outputs": [
        {
          "output_type": "stream",
          "text": [
            "/bin/bash: line 0: kill: (15627) - No such process\n"
          ],
          "name": "stdout"
        }
      ]
    },
    {
      "cell_type": "code",
      "metadata": {
        "id": "VhZ8XnOe9_lY",
        "outputId": "c0c9b8e1-2b8e-4cb2-fee7-0ec55ab28994",
        "colab": {
          "base_uri": "https://localhost:8080/"
        }
      },
      "source": [
        "%%time\n",
        "# Import the data\n",
        "train = cudf.read_parquet(\"new_train.parquet\")\n",
        "questions = cudf.read_parquet(\"questions.parquet\")\n",
        "\n",
        "# Lectures we won't load, as we are not supposed to predict for these rows"
      ],
      "execution_count": null,
      "outputs": [
        {
          "output_type": "stream",
          "text": [
            "CPU times: user 554 ms, sys: 342 ms, total: 896 ms\n",
            "Wall time: 883 ms\n"
          ],
          "name": "stdout"
        }
      ]
    },
    {
      "cell_type": "code",
      "metadata": {
        "id": "2q8do88b_-1A",
        "outputId": "40a0cdb5-baa0-4bad-d7b2-e083524d65ea",
        "colab": {
          "base_uri": "https://localhost:8080/"
        }
      },
      "source": [
        "%%time\n",
        "# Let's exclude all observations where (content_type_id = 1) & (answered_correctly = -1)\n",
        "train = train[train['content_type_id'] != 1]\n",
        "train = train[train['answered_correctly'] != -1].reset_index(drop=True)"
      ],
      "execution_count": null,
      "outputs": [
        {
          "output_type": "stream",
          "text": [
            "CPU times: user 184 ms, sys: 168 ms, total: 352 ms\n",
            "Wall time: 345 ms\n"
          ],
          "name": "stdout"
        }
      ]
    },
    {
      "cell_type": "code",
      "metadata": {
        "id": "L24_AB8FAdh2"
      },
      "source": [
        "import random \n",
        "import time\n",
        "\n",
        "def random_timestamp_sort(df):\n",
        "  max_timestamp_u = df[['user_id','timestamp']].groupby('user_id').agg('max').reset_index()\n",
        "\n",
        "  max_timestamp_u.columns = ['user_id', 'max_time_stamp']\n",
        "  MAX_TIME_STAMP = max_timestamp_u['max_time_stamp'].max()\n",
        "\n",
        "\n",
        "  interval = max_timestamp_u['max_time_stamp'] - MAX_TIME_STAMP\n",
        "  interval *= -1\n",
        "  multiplier = cudf.Series(np.random.rand(len(max_timestamp_u)))\n",
        "  random_timestamp = interval * multiplier\n",
        "  \n",
        "  max_timestamp_u['rand_time_stamp'] = random_timestamp.floor()\n",
        "\n",
        "  return max_timestamp_u[['user_id', 'rand_time_stamp']]"
      ],
      "execution_count": null,
      "outputs": []
    },
    {
      "cell_type": "code",
      "metadata": {
        "id": "K6VSHTJF_-nI",
        "outputId": "b6a8166b-14ff-40eb-d6f4-b3df6f181528",
        "colab": {
          "base_uri": "https://localhost:8080/"
        }
      },
      "source": [
        "%%time\n",
        "# Split data into train data & feature engineering data (to use for past performance)\n",
        "# Timestamp is in descending order - meaning that the last 10% observations have\n",
        "# the biggest chance of having had some performance recorded before\n",
        "# so looking at the performance in the past we'll try to predict the performance now\n",
        "\n",
        "random_timestamp = random_timestamp_sort(train)\n",
        "train = train.merge(random_timestamp, on='user_id', how='left')\n",
        "train['virtual_time_stamp'] = train['timestamp'] + train['rand_time_stamp']\n",
        "train = train.sort_values('virtual_time_stamp').reset_index(drop=True)\n",
        "train.to_parquet('train_virtual_timestamp.parquet')"
      ],
      "execution_count": null,
      "outputs": [
        {
          "output_type": "stream",
          "text": [
            "CPU times: user 2.48 s, sys: 3.5 s, total: 5.98 s\n",
            "Wall time: 19.6 s\n"
          ],
          "name": "stdout"
        }
      ]
    },
    {
      "cell_type": "code",
      "metadata": {
        "id": "hkmw9nTVNckn",
        "outputId": "969f1faf-402f-4a7b-801f-78fd61ef4ba6",
        "colab": {
          "base_uri": "https://localhost:8080/",
          "height": 197
        }
      },
      "source": [
        "del train\n",
        "del random_timestamp\n",
        "gc.collect()"
      ],
      "execution_count": null,
      "outputs": [
        {
          "output_type": "error",
          "ename": "NameError",
          "evalue": "ignored",
          "traceback": [
            "\u001b[0;31m---------------------------------------------------------------------------\u001b[0m",
            "\u001b[0;31mNameError\u001b[0m                                 Traceback (most recent call last)",
            "\u001b[0;32m<ipython-input-17-5ba3ed8c3597>\u001b[0m in \u001b[0;36m<module>\u001b[0;34m()\u001b[0m\n\u001b[0;32m----> 1\u001b[0;31m \u001b[0;32mdel\u001b[0m \u001b[0mtrain\u001b[0m\u001b[0;34m\u001b[0m\u001b[0;34m\u001b[0m\u001b[0m\n\u001b[0m\u001b[1;32m      2\u001b[0m \u001b[0;32mdel\u001b[0m \u001b[0mrandom_timestamp\u001b[0m\u001b[0;34m\u001b[0m\u001b[0;34m\u001b[0m\u001b[0m\n\u001b[1;32m      3\u001b[0m \u001b[0mgc\u001b[0m\u001b[0;34m.\u001b[0m\u001b[0mcollect\u001b[0m\u001b[0;34m(\u001b[0m\u001b[0;34m)\u001b[0m\u001b[0;34m\u001b[0m\u001b[0;34m\u001b[0m\u001b[0m\n",
            "\u001b[0;31mNameError\u001b[0m: name 'train' is not defined"
          ]
        }
      ]
    },
    {
      "cell_type": "code",
      "metadata": {
        "id": "dGuQmRM3KE0Q",
        "outputId": "bea1eb6e-9b96-4476-dc29-261f23cce8e6",
        "colab": {
          "base_uri": "https://localhost:8080/"
        }
      },
      "source": [
        "%%time\n",
        "# Import the data\n",
        "train = cudf.read_parquet(\"train_virtual_timestamp.parquet\")\n",
        "questions = cudf.read_parquet(\"questions.parquet\")\n",
        "\n",
        "# Lectures we won't load, as we are not supposed to predict for these rows\n",
        "\n",
        "train_percent = 0.1\n",
        "features, test = train.iloc[ : int(len(train)*(1-train_percent))], train.iloc[int(len(train)*(1-train_percent)) : ]"
      ],
      "execution_count": null,
      "outputs": [
        {
          "output_type": "stream",
          "text": [
            "CPU times: user 845 ms, sys: 555 ms, total: 1.4 s\n",
            "Wall time: 1.37 s\n"
          ],
          "name": "stdout"
        }
      ]
    },
    {
      "cell_type": "code",
      "metadata": {
        "id": "3PwU9yLgAI7v",
        "outputId": "23a729ff-86da-44f3-eca5-ab3d92fe938a",
        "colab": {
          "base_uri": "https://localhost:8080/"
        }
      },
      "source": [
        "%%time\n",
        "# --- STUDENT ANSWERS ---\n",
        "# Group by student\n",
        "user_answers = features[features['answered_correctly']!=-1].\\\n",
        "                            groupby('user_id').\\\n",
        "                            agg({'answered_correctly': ['sum', 'mean', 'min', \n",
        "                                                        'max', 'count', 'median', \n",
        "                                                        'std', 'var']}).\\\n",
        "                            reset_index()\n",
        "\n",
        "user_answers.columns = ['user_id', 'user_sum', 'user_mean', 'user_min', 'user_max', \n",
        "                        'user_count', 'user_median', 'user_std', 'user_var']\n",
        "\n",
        "# --- CONTENT ID ANSWERS ---\n",
        "# Group by content\n",
        "content_answers = features[features['answered_correctly']!=-1].\\\n",
        "                            groupby('content_id').\\\n",
        "                            agg({'answered_correctly': ['sum', 'mean', 'min', \n",
        "                                                        'max', 'count', 'median', \n",
        "                                                        'std', 'var']}).\\\n",
        "                            reset_index()\n",
        "\n",
        "content_answers.columns = ['content_id', 'content_sum', 'content_mean', 'content_min', \n",
        "                           'content_max', 'content_count', 'content_median', 'content_std', \n",
        "                           'content_var']"
      ],
      "execution_count": null,
      "outputs": [
        {
          "output_type": "stream",
          "text": [
            "CPU times: user 2.64 s, sys: 2.42 s, total: 5.05 s\n",
            "Wall time: 4.98 s\n"
          ],
          "name": "stdout"
        }
      ]
    },
    {
      "cell_type": "code",
      "metadata": {
        "id": "owfuufc4AIg0"
      },
      "source": [
        "user_answers.to_parquet('user_answers.parquet')\n",
        "content_answers.to_parquet('content_answers.parquet')"
      ],
      "execution_count": null,
      "outputs": []
    },
    {
      "cell_type": "code",
      "metadata": {
        "id": "CQ7Mz_hqRm5Z",
        "outputId": "0b73fa55-a9bf-4972-81ef-ea671a671d15",
        "colab": {
          "base_uri": "https://localhost:8080/"
        }
      },
      "source": [
        "!zip -r features.zip features/*"
      ],
      "execution_count": null,
      "outputs": [
        {
          "output_type": "stream",
          "text": [
            "  adding: features/content_answers.parquet (deflated 17%)\n",
            "  adding: features/lectures.parquet (deflated 39%)\n",
            "  adding: features/questions.parquet (deflated 65%)\n",
            "  adding: features/train_virtual_timestamp.parquet (deflated 23%)\n",
            "  adding: features/user_answers.parquet (deflated 13%)\n"
          ],
          "name": "stdout"
        }
      ]
    },
    {
      "cell_type": "code",
      "metadata": {
        "id": "o1tIDaZnT4W8"
      },
      "source": [
        "!cp features.zip 'gdrive/My Drive/kaggle'"
      ],
      "execution_count": null,
      "outputs": []
    },
    {
      "cell_type": "markdown",
      "metadata": {
        "id": "GUJnmiWGTtCZ"
      },
      "source": [
        "# **Model**"
      ]
    },
    {
      "cell_type": "code",
      "metadata": {
        "id": "6fbcHntijJy-"
      },
      "source": [
        "def make_cum_features_names(props):\n",
        "  props_string = '_and_'.join(props)\n",
        "  return f'count_by_{props_string}', f'proportion_by_{props_string}'\n",
        "\n",
        "def make_static_features_names(props):\n",
        "  props_string = '_and_'.join(props)\n",
        "  return f'static_count_by_{props_string}', f'static_proportion_by_{props_string}'\n",
        "\n",
        "def make_feature_group_name(props):\n",
        "  if np.isscalar(props):\n",
        "    return props\n",
        "  return '|'.join([str(prop) for prop in props])"
      ],
      "execution_count": null,
      "outputs": []
    },
    {
      "cell_type": "code",
      "metadata": {
        "id": "csSMh8XBoQs5"
      },
      "source": [
        "class ProportionFeatureAppender:\n",
        "  def __init__(self, feature_props = [], feature_dict = {}, name_prefix=''):\n",
        "    self.feature_props = feature_props\n",
        "    self.feature_dict = feature_dict\n",
        "    self.name_prefix = ''\n",
        "    if not self.name_prefix == '':\n",
        "      self.name_prefix += '_'\n",
        "    \n",
        "  def apply_features(self, df, update = True):\n",
        "    for props in self.feature_props:\n",
        "      feature_name = make_group_name(props) \n",
        "      if feature_name not in self.feature_dict:\n",
        "        self.feature_dict[feature_name] = {}\n",
        "      features_dict = cum_features_dict[feature_name]\n",
        "      count_name, proportion_name = self.make_features_names(props)\n",
        "      df[[count_name, proportion_name]] = df.groupby(props).apply(apply_group_cum, features_dict = features_dict) \n",
        "  \n",
        "    return df\n",
        "\n",
        "  def update_features(self, df):\n",
        "\n",
        "  def make_features_names(self, props):\n",
        "    props_string = '_and_'.join(props)\n",
        "    return f'{self.name_prefix}count_by_{props_string}', f'{self.name_prefix}proportion_by_{props_string}'\n",
        "\n",
        "  def make_group_name(props):\n",
        "    if np.isscalar(props):\n",
        "      return props\n",
        "    return '|'.join([str(prop) for prop in props])"
      ],
      "execution_count": null,
      "outputs": []
    },
    {
      "cell_type": "code",
      "metadata": {
        "id": "l8cL5ZvL1TnZ"
      },
      "source": [
        "import time\n",
        "\n",
        "def apply_group_cum(group, features_dict):\n",
        "    group_name = make_feature_group_name(group.name)\n",
        "    \n",
        "    if group_name not in features_dict:\n",
        "      features_dict[group_name] = {\n",
        "          'count': 0,\n",
        "          'proportion': 0\n",
        "      }\n",
        "    \n",
        "    last_count = features_dict[group_name]['count']\n",
        "    last_proportion = features_dict[group_name]['proportion']\n",
        "    \n",
        "    count = np.arange(len(group)) + last_count\n",
        "    proportion = (group['answered_correctly'].cumsum() + last_proportion * last_count) / count\n",
        "\n",
        "    features_dict[group_name] = {\n",
        "        'count': count[-1],\n",
        "        'proportion': (group['answered_correctly'][-1] + last_proportion * last_count) / count\n",
        "    }\n",
        "\n",
        "    return pd.DataFrame({1: count, 2: proportion}, index = group.index)\n",
        "\n",
        "def add_cum_features(df, cum_features_props, cum_features_dict, update = True):\n",
        "  for props in cum_features_props:\n",
        "    feature_name = make_feature_group_name(props) \n",
        "    if feature_name not in cum_features_dict:\n",
        "      cum_features_dict[feature_name] = {}\n",
        "    features_dict = cum_features_dict[feature_name]\n",
        "    count_name, proportion_name = make_cum_features_names(props)\n",
        "    df[[count_name, proportion_name]] = df.groupby(props).apply(apply_group_cum, features_dict = features_dict) \n",
        "  \n",
        "  return df, cum_features_dict"
      ],
      "execution_count": null,
      "outputs": []
    },
    {
      "cell_type": "code",
      "metadata": {
        "id": "Z-_A6Pd3_hRd"
      },
      "source": [
        "def apply_group_static(group, features_dict, update):\n",
        "    group_name = make_feature_group_name(group.name)\n",
        "\n",
        "    if group_name not in features_dict:\n",
        "      features_dict[group_name] = {\n",
        "          'count': 1,\n",
        "          'proportion': 0\n",
        "      }\n",
        "    group_features = features_dict[group_name]\n",
        "    last_count = group_features['count']\n",
        "    last_proportion = group_features['proportion']\n",
        "    \n",
        "    if update:\n",
        "      # if update is True modify values with new information\n",
        "      count = len(group) + last_count\n",
        "      proportion = (group['answered_correctly'].sum() + last_proportion * last_count) / count\n",
        "\n",
        "      features_dict[group_name] = {\n",
        "          'count': count,\n",
        "          'proportion': proportion\n",
        "      }\n",
        "    else:\n",
        "      # if update is False fill value with global averages(don't use new information)\n",
        "      counts = [features_dict[key]['count'] for key in features_dict]\n",
        "      count = sum(counts) / len(counts)\n",
        "      sums = [features_dict[key]['count'] * features_dict[key]['proportion'] for key in features_dict]\n",
        "      proportion = sum(sums) / sum(counts)\n",
        "\n",
        "    return pd.DataFrame({1:np.full(len(group), count), 2:np.full(len(group), proportion)}, index = group.index)\n",
        "\n",
        "\n",
        "def add_static_features(df, static_features_props, static_features_dict, update = True):\n",
        "  for props in static_features_props:\n",
        "    feature_name = make_feature_group_name(props)\n",
        "    if feature_name not in static_features_dict:\n",
        "      static_features_dict[feature_name] = {}\n",
        "    features_dict = static_features_dict[feature_name]\n",
        "    count_name, proportion_name = make_static_features_names(props)\n",
        "\n",
        "    df[[count_name, proportion_name]] = df.groupby(props).apply(apply_group_static, features_dict = features_dict, update = update) \n",
        "  return df, static_features_dict"
      ],
      "execution_count": null,
      "outputs": []
    },
    {
      "cell_type": "code",
      "metadata": {
        "id": "i9yZ289J3f32"
      },
      "source": [
        "cum_features_props = [['user_id'], ['user_id', 'part']]\n",
        "cum_features_dict = {}\n",
        "\n",
        "questions_train_df, cum_features_dict = add_cum_features(questions_train_df, cum_features_props, cum_features_dict)"
      ],
      "execution_count": null,
      "outputs": []
    },
    {
      "cell_type": "code",
      "metadata": {
        "id": "r5JKQLKMQwj-"
      },
      "source": [
        "static_features_props = [['content_id']]\n",
        "static_features_dict = {}\n",
        "\n",
        "questions_train_df, static_features_dict = add_static_features(questions_train_df, static_features_props, static_features_dict, update = True)\n"
      ],
      "execution_count": null,
      "outputs": []
    },
    {
      "cell_type": "code",
      "metadata": {
        "id": "0rAE4KKJstgy",
        "outputId": "d645309a-de37-498f-9033-d94f35839e35",
        "colab": {
          "base_uri": "https://localhost:8080/",
          "height": 402
        }
      },
      "source": [
        "questions_train_df[['content_id','static_count_by_content_id', 'static_proportion_by_content_id']]"
      ],
      "execution_count": null,
      "outputs": [
        {
          "output_type": "execute_result",
          "data": {
            "text/html": [
              "<div>\n",
              "<style scoped>\n",
              "    .dataframe tbody tr th:only-of-type {\n",
              "        vertical-align: middle;\n",
              "    }\n",
              "\n",
              "    .dataframe tbody tr th {\n",
              "        vertical-align: top;\n",
              "    }\n",
              "\n",
              "    .dataframe thead th {\n",
              "        text-align: right;\n",
              "    }\n",
              "</style>\n",
              "<table border=\"1\" class=\"dataframe\">\n",
              "  <thead>\n",
              "    <tr style=\"text-align: right;\">\n",
              "      <th></th>\n",
              "      <th>content_id</th>\n",
              "      <th>static_count_by_content_id</th>\n",
              "      <th>static_proportion_by_content_id</th>\n",
              "    </tr>\n",
              "  </thead>\n",
              "  <tbody>\n",
              "    <tr>\n",
              "      <th>0</th>\n",
              "      <td>5692</td>\n",
              "      <td>5</td>\n",
              "      <td>0.800000</td>\n",
              "    </tr>\n",
              "    <tr>\n",
              "      <th>1</th>\n",
              "      <td>5716</td>\n",
              "      <td>3</td>\n",
              "      <td>0.666667</td>\n",
              "    </tr>\n",
              "    <tr>\n",
              "      <th>2</th>\n",
              "      <td>128</td>\n",
              "      <td>3</td>\n",
              "      <td>0.666667</td>\n",
              "    </tr>\n",
              "    <tr>\n",
              "      <th>3</th>\n",
              "      <td>7860</td>\n",
              "      <td>3</td>\n",
              "      <td>0.666667</td>\n",
              "    </tr>\n",
              "    <tr>\n",
              "      <th>4</th>\n",
              "      <td>7922</td>\n",
              "      <td>3</td>\n",
              "      <td>0.666667</td>\n",
              "    </tr>\n",
              "    <tr>\n",
              "      <th>...</th>\n",
              "      <td>...</td>\n",
              "      <td>...</td>\n",
              "      <td>...</td>\n",
              "    </tr>\n",
              "    <tr>\n",
              "      <th>9758</th>\n",
              "      <td>1124</td>\n",
              "      <td>3</td>\n",
              "      <td>0.333333</td>\n",
              "    </tr>\n",
              "    <tr>\n",
              "      <th>9759</th>\n",
              "      <td>810</td>\n",
              "      <td>3</td>\n",
              "      <td>0.666667</td>\n",
              "    </tr>\n",
              "    <tr>\n",
              "      <th>9760</th>\n",
              "      <td>1245</td>\n",
              "      <td>4</td>\n",
              "      <td>0.250000</td>\n",
              "    </tr>\n",
              "    <tr>\n",
              "      <th>9761</th>\n",
              "      <td>711</td>\n",
              "      <td>3</td>\n",
              "      <td>0.666667</td>\n",
              "    </tr>\n",
              "    <tr>\n",
              "      <th>9762</th>\n",
              "      <td>1123</td>\n",
              "      <td>3</td>\n",
              "      <td>0.666667</td>\n",
              "    </tr>\n",
              "  </tbody>\n",
              "</table>\n",
              "<p>9763 rows × 3 columns</p>\n",
              "</div>"
            ],
            "text/plain": [
              "      content_id  static_count_by_content_id  static_proportion_by_content_id\n",
              "0           5692                           5                         0.800000\n",
              "1           5716                           3                         0.666667\n",
              "2            128                           3                         0.666667\n",
              "3           7860                           3                         0.666667\n",
              "4           7922                           3                         0.666667\n",
              "...          ...                         ...                              ...\n",
              "9758        1124                           3                         0.333333\n",
              "9759         810                           3                         0.666667\n",
              "9760        1245                           4                         0.250000\n",
              "9761         711                           3                         0.666667\n",
              "9762        1123                           3                         0.666667\n",
              "\n",
              "[9763 rows x 3 columns]"
            ]
          },
          "metadata": {
            "tags": []
          },
          "execution_count": 238
        }
      ]
    },
    {
      "cell_type": "code",
      "metadata": {
        "id": "3XxIKeAuK-nr"
      },
      "source": [
        "def select_features(df, cum_features_props, static_features_props, elapsed_time_mean = None):\n",
        "\n",
        "  cum_names = [make_cum_features_names(props) for props in cum_features_props]\n",
        "  static_names = [make_static_features_names(props) for props in static_features_props]\n",
        "\n",
        "  features_names = []\n",
        "  for names in cum_names + static_names:\n",
        "      features_names += names\n",
        "\n",
        "  features_df = df[[\n",
        "                            'prior_question_elapsed_time', \n",
        "                            'prior_question_had_explanation', \n",
        "                            'part', \n",
        "                            *features_names\n",
        "                            ]]\n",
        "  \n",
        "  return features_df,  df['answered_correctly'].reset_index(drop=True)"
      ],
      "execution_count": null,
      "outputs": []
    },
    {
      "cell_type": "code",
      "metadata": {
        "id": "RYbCQyBd4PzU"
      },
      "source": [
        "features, Y = select_features(questions_train_df)"
      ],
      "execution_count": null,
      "outputs": []
    },
    {
      "cell_type": "code",
      "metadata": {
        "id": "nAAAGd7yOtt7"
      },
      "source": [
        "from sklearn.preprocessing import MaxAbsScaler\n",
        "\n",
        "def scale(features, Y, scaler = None):\n",
        "  if scaler == None:\n",
        "    scaler = MaxAbsScaler()\n",
        "    scaler.fit(features)\n",
        "  scaled_data = scaler.transform(features)\n",
        "  X = pd.DataFrame(scaled_data, columns=features.columns)\n",
        "  return X, Y, scaler"
      ],
      "execution_count": null,
      "outputs": []
    },
    {
      "cell_type": "code",
      "metadata": {
        "id": "mA4AAdUA4wWM"
      },
      "source": [
        "X,Y,scaler = scale(features, Y)"
      ],
      "execution_count": null,
      "outputs": []
    },
    {
      "cell_type": "code",
      "metadata": {
        "id": "LlGUPCHHR5eK"
      },
      "source": [
        "import lightgbm as lgb\n",
        "from sklearn.metrics import roc_auc_score\n",
        "\n",
        "def train_model(X,Y):\n",
        "\n",
        "  lgb_train = lgb.Dataset(X, Y)\n",
        "\n",
        "  params = {\n",
        "    'boosting_type': 'gbdt',\n",
        "    'objective': 'binary',\n",
        "    'metric': 'binary_logloss',\n",
        "    'lambda_l1': trial.suggest_loguniform('lambda_l1', 1e-8, 10.0),\n",
        "    'lambda_l2': trial.suggest_loguniform('lambda_l2', 1e-8, 10.0),\n",
        "    'num_leaves': trial.suggest_int('num_leaves', 2, 256),\n",
        "    'feature_fraction': trial.suggest_uniform('feature_fraction', 0.4, 1.0),\n",
        "    'bagging_fraction': trial.suggest_uniform('bagging_fraction', 0.4, 1.0),\n",
        "    'bagging_freq': trial.suggest_int('bagging_freq', 1, 7),\n",
        "    'min_child_samples': trial.suggest_int('min_child_samples', 5, 100),\n",
        "  }\n",
        "\n",
        "  model = lgb.train(\n",
        "                      params, \n",
        "                      lgb_train,\n",
        "                      valid_sets=[lgb_train, lgb_train],\n",
        "                      verbose_eval=100,\n",
        "                      num_boost_round=10000,\n",
        "                      early_stopping_rounds=10\n",
        "                  )\n",
        "\n",
        "  return model"
      ],
      "execution_count": null,
      "outputs": []
    },
    {
      "cell_type": "code",
      "metadata": {
        "id": "dvYyMKiONTas"
      },
      "source": [
        "import lightgbm as lgb\n",
        "import optuna\n",
        "from sklearn.metrics import roc_auc_score\n",
        "\n",
        "def train_model_optimize_params(data):\n",
        "    X_train, Y_train, X_test, Y_test = random_split(data)\n",
        "    dtrain = lgb.Dataset(X_train, Y_train)\n",
        "    dval = lgb.Dataset(X_test, Y_test)\n",
        " \n",
        "    def objective(trial):\n",
        "      params = {\n",
        "          'objective': 'binary',\n",
        "          'metric': 'binary_logloss',\n",
        "          'verbosity': -1,\n",
        "          'boosting_type': 'gbdt',\n",
        "          'lambda_l1': trial.suggest_loguniform('lambda_l1', 1e-8, 10.0),\n",
        "          'lambda_l2': trial.suggest_loguniform('lambda_l2', 1e-8, 10.0),\n",
        "          'num_leaves': trial.suggest_int('num_leaves', 2, 256),\n",
        "          'feature_fraction': trial.suggest_uniform('feature_fraction', 0.4, 1.0),\n",
        "          'bagging_fraction': trial.suggest_uniform('bagging_fraction', 0.4, 1.0),\n",
        "          'bagging_freq': trial.suggest_int('bagging_freq', 1, 7),\n",
        "          'min_child_samples': trial.suggest_int('min_child_samples', 5, 100),\n",
        "      }\n",
        "\n",
        "      gbm = lgb.train(params, dtrain, early_stopping_rounds = 100, num_boost_round=1000)\n",
        "      accuracy = roc_auc_score(Y_test, gbm.predict(X_test))\n",
        "      print(accuracy)\n",
        "      return accuracy\n",
        "\n",
        "    study = optuna.create_study(direction='maximize')\n",
        "    study.optimize(lambda trial: objective(trial), n_trials=100)\n",
        "\n",
        "    print('Number of finished trials:', len(study.trials))\n",
        "    print('Best trial:', study.best_trial.params)\n",
        "\n",
        "    return study.best_trial.params\n",
        "    "
      ],
      "execution_count": null,
      "outputs": []
    },
    {
      "cell_type": "markdown",
      "metadata": {
        "id": "lgwgi_JJVKRu"
      },
      "source": [
        "# **Cross Validation Save**"
      ]
    },
    {
      "cell_type": "code",
      "metadata": {
        "id": "jSHcoZ61tLYG"
      },
      "source": [
        "import pandas as pd\n",
        "NUM_OF_ROWS = 10_000_000\n",
        "train = pd.read_csv('train.csv', nrows=NUM_OF_ROWS)"
      ],
      "execution_count": null,
      "outputs": []
    },
    {
      "cell_type": "code",
      "metadata": {
        "id": "x8Dty_5mvLOV"
      },
      "source": [
        "import random \n",
        "\n",
        "max_timestamp_u = train[['user_id','timestamp']].groupby(['user_id']).agg(['max']).reset_index()\n",
        "max_timestamp_u.columns = ['user_id', 'max_time_stamp']\n",
        "MAX_TIME_STAMP = max_timestamp_u.max_time_stamp.max()\n",
        "\n",
        "def rand_time(max_time_stamp):\n",
        "    interval = MAX_TIME_STAMP - max_time_stamp\n",
        "    rand_time_stamp = random.randint(0,interval)\n",
        "    return rand_time_stamp\n",
        "\n",
        "max_timestamp_u['rand_time_stamp'] = max_timestamp_u.max_time_stamp.apply(rand_time)\n",
        "train = train.merge(max_timestamp_u, on='user_id', how='left')\n",
        "train['viretual_time_stamp'] = train.timestamp + train['rand_time_stamp']\n",
        "\n",
        "train = train.sort_values(['viretual_time_stamp', 'row_id']).reset_index(drop=True)"
      ],
      "execution_count": null,
      "outputs": []
    },
    {
      "cell_type": "code",
      "metadata": {
        "id": "mWkCVGBkvMkz"
      },
      "source": [
        "!mkdir cv"
      ],
      "execution_count": null,
      "outputs": []
    },
    {
      "cell_type": "code",
      "metadata": {
        "id": "rBqbwprnqS2C",
        "outputId": "e6047b4c-a41c-4347-b513-f41334189813",
        "colab": {
          "base_uri": "https://localhost:8080/"
        }
      },
      "source": [
        "import random\n",
        "from pathlib import Path\n",
        "\n",
        "folds = 5\n",
        "val_size = len(train) // ( 10 * (folds-1))\n",
        "\n",
        "for cv in range(folds):\n",
        "    curr = time.time()\n",
        "    valid = train[-val_size:]\n",
        "    train = train[:-val_size]\n",
        "    # check new users and new contents\n",
        "    new_users = len(valid[~valid.user_id.isin(train.user_id)].user_id.unique())\n",
        "    valid_question = valid[valid.content_type_id == 0]\n",
        "    train_question = train[train.content_type_id == 0]\n",
        "    new_contents = len(valid_question[~valid_question.content_id.isin(train_question.content_id)].content_id.unique())    \n",
        "    print(f'cv{cv} {train_question.answered_correctly.mean():.3f} {valid_question.answered_correctly.mean():.3f} {new_users} {new_contents}')\n",
        "    valid.to_pickle(f'cv/cv{cv+1}_valid.pickle')\n",
        "    train.to_pickle(f'cv/cv{cv+1}_train.pickle')\n",
        "    print(f'pickled in: {time.time() - curr}')\n",
        "    curr = time.time()"
      ],
      "execution_count": null,
      "outputs": [
        {
          "output_type": "stream",
          "text": [
            "cv0 0.659 0.652 1430 1\n",
            "pickled in: 4.8966639041900635\n",
            "cv1 0.659 0.655 1027 0\n",
            "pickled in: 13.185844421386719\n",
            "cv2 0.659 0.662 950 0\n",
            "pickled in: 22.352181911468506\n",
            "cv3 0.659 0.662 963 0\n",
            "pickled in: 23.7846417427063\n",
            "cv4 0.659 0.661 942 0\n",
            "pickled in: 20.55452036857605\n"
          ],
          "name": "stdout"
        }
      ]
    },
    {
      "cell_type": "markdown",
      "metadata": {
        "id": "5yM8iP3100h6"
      },
      "source": [
        "# **Add Features**"
      ]
    },
    {
      "cell_type": "code",
      "metadata": {
        "id": "afVRym0R1CH5",
        "outputId": "2a37db02-e7cb-49ac-fe2e-b6bc2ebb62f3",
        "colab": {
          "base_uri": "https://localhost:8080/"
        }
      },
      "source": [
        "!ls "
      ],
      "execution_count": null,
      "outputs": [
        {
          "output_type": "stream",
          "text": [
            "build\t\t\t\t\t     __init__.py    sample_data\n",
            "competition.cpython-37m-x86_64-linux-gnu.so  kaggle.json    train.csv\n",
            "cv\t\t\t\t\t     lectures.csv   train.csv.zip\n",
            "example_sample_submission.csv\t\t     LightGBM\n",
            "example_test.csv\t\t\t     questions.csv\n"
          ],
          "name": "stdout"
        }
      ]
    },
    {
      "cell_type": "code",
      "metadata": {
        "id": "aRlOjXpeAJza"
      },
      "source": [
        "import pandas as pd\n",
        "\n",
        "questions = pd.read_csv('questions.csv')\n",
        "lectures = pd.read_csv('lectures.csv')\n",
        "questions.rename(columns = {'question_id': 'content_id'}, inplace = True)\n",
        "\n",
        "lectures.rename(columns = {'lecture_id': 'content_id'}, inplace = True)"
      ],
      "execution_count": null,
      "outputs": []
    },
    {
      "cell_type": "code",
      "metadata": {
        "id": "blqRTBFR0zMK",
        "outputId": "f6663124-01f9-4805-ab10-fe1e4fbaea50",
        "colab": {
          "base_uri": "https://localhost:8080/"
        }
      },
      "source": [
        "import time\n",
        "folds = 5\n",
        "\n",
        "started = False\n",
        "df = None\n",
        "answers = None \n",
        "\n",
        "for cv in range(folds):\n",
        "  \n",
        "  print(f'-------------------------  fold - {cv+1}   --------------------------------')\n",
        "  init_time = time.time()\n",
        "  train = pd.read_pickle(f'cv/cv{cv+1}_train.pickle')\n",
        "  valid = pd.read_pickle(f'cv/cv{cv+1}_valid.pickle')\n",
        "\n",
        "  cum_features_props = [['user_id'], ['user_id', 'part']]\n",
        "  cum_features_dict = {}\n",
        "  \n",
        "  static_features_props = [['content_id']]\n",
        "  static_features_dict = {}\n",
        "  \n",
        "  df_train, _ = split_merge_data(train, questions, lectures)\n",
        "\n",
        "  # feature selection and updates\n",
        "  curr = time.time()\n",
        "  df_train, cum_features_dict = add_cum_features(df_train, cum_features_props, cum_features_dict)  \n",
        "  print(f'added train cum features in: {time.time() - curr}')\n",
        "  curr = time.time()\n",
        "  \n",
        "  df_train, static_features_dict = add_static_features(df_train, static_features_props, static_features_dict)\n",
        "  print(f'added train static features in: {time.time() - curr}')\n",
        "  curr = time.time()\n",
        "  \n",
        "  features_train, Y_train = select_features(df_train, cum_features_props, static_features_props)\n",
        "\n",
        "  elapsed_time_count = features_train.prior_question_elapsed_time.dropna().count()\n",
        "  elapsed_time_mean = features_train.prior_question_elapsed_time.dropna().mean()\n",
        "  \n",
        "  features_train = features_train.fillna(value = {\n",
        "      'prior_question_had_explanation': False,\n",
        "      'prior_question_elapsed_time': elapsed_time_mean\n",
        "      })\n",
        "\n",
        "  if not started:\n",
        "    df = features_train\n",
        "    answers = Y_train\n",
        "  \n",
        "  X_train,Y_train, scaler = scale(features_train, Y_train)\n",
        "  print(f'selected and cleaned train features in: {time.time() - curr}')\n",
        "  curr = time.time()\n",
        "  \n",
        "  X_train.to_pickle(f'cv/cv{cv+1}_X_train.pickle')\n",
        "  print(f'saved X_train in: {time.time() - curr}')\n",
        "  curr = time.time()\n",
        "  \n",
        "  Y_train.to_pickle(f'cv/cv{cv+1}_Y_train.pickle')\n",
        "  print(f'saved Y_train in: {time.time() - curr}')\n",
        "  curr = time.time()\n",
        "  \n",
        "  df_valid, _ = split_merge_data(valid, questions, lectures)\n",
        "\n",
        "  # feature selection and updates\n",
        "  curr = time.time()\n",
        "  df_valid, cum_features_dict = add_cum_features(df_valid, cum_features_props, cum_features_dict)\n",
        "  print(f'added valid cum features in: {time.time() - curr}')\n",
        "  curr = time.time()\n",
        "  \n",
        "  df_valid, static_features_dict = add_static_features(df_valid, static_features_props, static_features_dict)\n",
        "  print(f'added valid static features in: {time.time() - curr}')\n",
        "  curr = time.time()\n",
        "  \n",
        "  features_valid, Y_valid = select_features(df_valid, cum_features_props, static_features_props)\n",
        "\n",
        "  elapsed_time_count += features_valid.prior_question_elapsed_time.dropna().count()\n",
        "  elapsed_time_mean = (features_valid.prior_question_elapsed_time.dropna().sum() + elapsed_time_mean * (elapsed_time_count - features_valid.prior_question_elapsed_time.dropna().count())) / elapsed_time_count\n",
        "  \n",
        "  features_valid = features_valid.fillna(value = {\n",
        "      'prior_question_had_explanation': False,\n",
        "      'prior_question_elapsed_time': elapsed_time_mean\n",
        "      })\n",
        "\n",
        "  X_valid, Y_valid, scaler = scale(features_valid, Y_valid)\n",
        "\n",
        "  print(f'selected and cleaned valid features in: {time.time() - curr}')\n",
        "  curr = time.time()\n",
        "  \n",
        "\n",
        "  X_valid.to_pickle(f'cv/cv{cv+1}_X_valid.pickle')\n",
        "  print(f'saved X_valid in: {time.time() - curr}')\n",
        "  curr = time.time()\n",
        "  \n",
        "  Y_valid.to_pickle(f'cv/cv{cv+1}_Y_valid.pickle')\n",
        "  print(f'saved Y_valid in: {time.time() - curr}')\n",
        "\n",
        "  print(f'total time: {time.time() - init_time}')\n",
        "  init_time = time.time()\n",
        "  "
      ],
      "execution_count": null,
      "outputs": [
        {
          "output_type": "stream",
          "text": [
            "-------------------------  fold - 1   --------------------------------\n",
            "added train cum features in: 256.89497923851013\n",
            "added train static features in: 18.59993863105774\n",
            "['count_by_user_id', 'proportion_by_user_id', 'count_by_user_id_and_part', 'proportion_by_user_id_and_part', 'static_count_by_content_id', 'static_proportion_by_content_id']\n",
            "selected and cleaned train features in: 17.37358045578003\n",
            "saved X_train in: 2.950249433517456\n",
            "saved Y_train in: 0.24951791763305664\n",
            "added valid cum features in: 13.24678111076355\n",
            "added valid static features in: 11.770996809005737\n",
            "['count_by_user_id', 'proportion_by_user_id', 'count_by_user_id_and_part', 'proportion_by_user_id_and_part', 'static_count_by_content_id', 'static_proportion_by_content_id']\n",
            "selected and cleaned valid features in: 0.30914878845214844\n",
            "saved X_valid in: 0.02549457550048828\n",
            "saved Y_valid in: 0.00347900390625\n",
            "total time: 358.03234696388245\n",
            "-------------------------  fold - 2   --------------------------------\n",
            "added train cum features in: 251.6234953403473\n",
            "added train static features in: 19.044328451156616\n",
            "['count_by_user_id', 'proportion_by_user_id', 'count_by_user_id_and_part', 'proportion_by_user_id_and_part', 'static_count_by_content_id', 'static_proportion_by_content_id']\n",
            "selected and cleaned train features in: 18.864867210388184\n",
            "saved X_train in: 2.940732002258301\n",
            "saved Y_train in: 0.2721750736236572\n",
            "added valid cum features in: 11.128199577331543\n",
            "added valid static features in: 11.819718599319458\n",
            "['count_by_user_id', 'proportion_by_user_id', 'count_by_user_id_and_part', 'proportion_by_user_id_and_part', 'static_count_by_content_id', 'static_proportion_by_content_id']\n",
            "selected and cleaned valid features in: 0.3331584930419922\n",
            "saved X_valid in: 0.026778459548950195\n",
            "saved Y_valid in: 0.003941059112548828\n",
            "total time: 359.4318063259125\n",
            "-------------------------  fold - 3   --------------------------------\n",
            "added train cum features in: 247.97721481323242\n",
            "added train static features in: 19.690094709396362\n",
            "['count_by_user_id', 'proportion_by_user_id', 'count_by_user_id_and_part', 'proportion_by_user_id_and_part', 'static_count_by_content_id', 'static_proportion_by_content_id']\n",
            "selected and cleaned train features in: 15.397770404815674\n",
            "saved X_train in: 2.6543328762054443\n",
            "saved Y_train in: 0.26009464263916016\n",
            "added valid cum features in: 10.374310493469238\n",
            "added valid static features in: 10.812127113342285\n",
            "['count_by_user_id', 'proportion_by_user_id', 'count_by_user_id_and_part', 'proportion_by_user_id_and_part', 'static_count_by_content_id', 'static_proportion_by_content_id']\n",
            "selected and cleaned valid features in: 0.3087902069091797\n",
            "saved X_valid in: 0.025159358978271484\n",
            "saved Y_valid in: 0.0034885406494140625\n",
            "total time: 348.7858090400696\n",
            "-------------------------  fold - 4   --------------------------------\n",
            "added train cum features in: 238.88410067558289\n",
            "added train static features in: 19.61171793937683\n",
            "['count_by_user_id', 'proportion_by_user_id', 'count_by_user_id_and_part', 'proportion_by_user_id_and_part', 'static_count_by_content_id', 'static_proportion_by_content_id']\n",
            "selected and cleaned train features in: 16.254359006881714\n",
            "saved X_train in: 2.7031869888305664\n",
            "saved Y_train in: 0.22320890426635742\n",
            "added valid cum features in: 10.916943550109863\n",
            "added valid static features in: 11.503247737884521\n",
            "['count_by_user_id', 'proportion_by_user_id', 'count_by_user_id_and_part', 'proportion_by_user_id_and_part', 'static_count_by_content_id', 'static_proportion_by_content_id']\n",
            "selected and cleaned valid features in: 0.3111283779144287\n",
            "saved X_valid in: 0.023665189743041992\n",
            "saved Y_valid in: 0.0035092830657958984\n",
            "total time: 342.12823581695557\n",
            "-------------------------  fold - 5   --------------------------------\n",
            "added train cum features in: 234.4230980873108\n",
            "added train static features in: 18.731313467025757\n",
            "['count_by_user_id', 'proportion_by_user_id', 'count_by_user_id_and_part', 'proportion_by_user_id_and_part', 'static_count_by_content_id', 'static_proportion_by_content_id']\n",
            "selected and cleaned train features in: 14.876661539077759\n",
            "saved X_train in: 2.2966248989105225\n",
            "saved Y_train in: 0.1485283374786377\n",
            "added valid cum features in: 10.68625521659851\n",
            "added valid static features in: 11.370338678359985\n",
            "['count_by_user_id', 'proportion_by_user_id', 'count_by_user_id_and_part', 'proportion_by_user_id_and_part', 'static_count_by_content_id', 'static_proportion_by_content_id']\n",
            "selected and cleaned valid features in: 0.33838772773742676\n",
            "saved X_valid in: 0.025310993194580078\n",
            "saved Y_valid in: 0.0033922195434570312\n",
            "total time: 332.42961072921753\n"
          ],
          "name": "stdout"
        }
      ]
    },
    {
      "cell_type": "markdown",
      "metadata": {
        "id": "JYM_SJTaxNIa"
      },
      "source": [
        "# **Cross Validation Train**"
      ]
    },
    {
      "cell_type": "code",
      "metadata": {
        "id": "HkVWJf6Iqyqc",
        "outputId": "646d70a6-dc80-45b7-f5ce-f2d4937d8e7a",
        "colab": {
          "base_uri": "https://localhost:8080/",
          "height": 330
        }
      },
      "source": [
        "import pandas as pd\n",
        "import lightgbm as lgb\n",
        "\n",
        "folds = 1\n",
        "\n",
        "aucs= []\n",
        "\n",
        "for cv in range(folds):\n",
        "  X_train = pd.read_pickle(f'cv/cv{cv+1}_X_train.pickle')\n",
        "  Y_train = pd.read_pickle(f'cv/cv{cv+1}_Y_train.pickle')\n",
        "  \n",
        "  X_valid = pd.read_pickle(f'cv/cv{cv+1}_X_valid.pickle')\n",
        "  Y_valid = pd.read_pickle(f'cv/cv{cv+1}_Y_valid.pickle')\n",
        "\n",
        "  model = train_model_optimize_params(X_train, Y_train, X_valid, Y_valid)\n",
        "  lgb.plot_importance(model)"
      ],
      "execution_count": null,
      "outputs": [
        {
          "output_type": "error",
          "ename": "TypeError",
          "evalue": "ignored",
          "traceback": [
            "\u001b[0;31m---------------------------------------------------------------------------\u001b[0m",
            "\u001b[0;31mTypeError\u001b[0m                                 Traceback (most recent call last)",
            "\u001b[0;32m<ipython-input-7-56256aa43937>\u001b[0m in \u001b[0;36m<module>\u001b[0;34m()\u001b[0m\n\u001b[1;32m     14\u001b[0m   \u001b[0mY_valid\u001b[0m \u001b[0;34m=\u001b[0m \u001b[0mpd\u001b[0m\u001b[0;34m.\u001b[0m\u001b[0mread_pickle\u001b[0m\u001b[0;34m(\u001b[0m\u001b[0;34mf'cv/cv{cv+1}_Y_valid.pickle'\u001b[0m\u001b[0;34m)\u001b[0m\u001b[0;34m\u001b[0m\u001b[0;34m\u001b[0m\u001b[0m\n\u001b[1;32m     15\u001b[0m \u001b[0;34m\u001b[0m\u001b[0m\n\u001b[0;32m---> 16\u001b[0;31m   \u001b[0mmodel\u001b[0m \u001b[0;34m=\u001b[0m \u001b[0mtrain_model_optimize_params\u001b[0m\u001b[0;34m(\u001b[0m\u001b[0mX_train\u001b[0m\u001b[0;34m,\u001b[0m \u001b[0mY_train\u001b[0m\u001b[0;34m,\u001b[0m \u001b[0mX_valid\u001b[0m\u001b[0;34m,\u001b[0m \u001b[0mY_valid\u001b[0m\u001b[0;34m)\u001b[0m\u001b[0;34m\u001b[0m\u001b[0;34m\u001b[0m\u001b[0m\n\u001b[0m\u001b[1;32m     17\u001b[0m   \u001b[0mlgb\u001b[0m\u001b[0;34m.\u001b[0m\u001b[0mplot_importance\u001b[0m\u001b[0;34m(\u001b[0m\u001b[0mmodel\u001b[0m\u001b[0;34m)\u001b[0m\u001b[0;34m\u001b[0m\u001b[0;34m\u001b[0m\u001b[0m\n",
            "\u001b[0;32m<ipython-input-5-e4fa71afab69>\u001b[0m in \u001b[0;36mtrain_model_optimize_params\u001b[0;34m(X_train, Y_train, X_test, Y_test)\u001b[0m\n\u001b[1;32m     16\u001b[0m     gbm = lgb.train(params, dtrain, valid_sets=[dtrain, dval], \n\u001b[1;32m     17\u001b[0m                     \u001b[0mverbose_eval\u001b[0m \u001b[0;34m=\u001b[0m \u001b[0;36m100\u001b[0m\u001b[0;34m,\u001b[0m \u001b[0mearly_stopping_rounds\u001b[0m \u001b[0;34m=\u001b[0m \u001b[0;36m100\u001b[0m\u001b[0;34m,\u001b[0m \u001b[0mnum_boost_round\u001b[0m\u001b[0;34m=\u001b[0m\u001b[0;36m10000\u001b[0m\u001b[0;34m,\u001b[0m\u001b[0;34m\u001b[0m\u001b[0;34m\u001b[0m\u001b[0m\n\u001b[0;32m---> 18\u001b[0;31m                     best_params=best_params, tuning_history=tuning_history)\n\u001b[0m\u001b[1;32m     19\u001b[0m \u001b[0;34m\u001b[0m\u001b[0m\n\u001b[1;32m     20\u001b[0m     \u001b[0maccuracy\u001b[0m \u001b[0;34m=\u001b[0m \u001b[0mroc_auc_score\u001b[0m\u001b[0;34m(\u001b[0m\u001b[0mY_valid\u001b[0m\u001b[0;34m,\u001b[0m \u001b[0mgbm\u001b[0m\u001b[0;34m.\u001b[0m\u001b[0mpredict\u001b[0m\u001b[0;34m(\u001b[0m\u001b[0mX_test\u001b[0m\u001b[0;34m)\u001b[0m\u001b[0;34m)\u001b[0m\u001b[0;34m\u001b[0m\u001b[0;34m\u001b[0m\u001b[0m\n",
            "\u001b[0;31mTypeError\u001b[0m: train() got an unexpected keyword argument 'best_params'"
          ]
        }
      ]
    },
    {
      "cell_type": "code",
      "metadata": {
        "id": "kwdTzkob8rAR",
        "outputId": "62330ee4-ac3e-4d96-e679-3bfe912e86c6",
        "colab": {
          "base_uri": "https://localhost:8080/"
        }
      },
      "source": [
        "aucs"
      ],
      "execution_count": null,
      "outputs": [
        {
          "output_type": "execute_result",
          "data": {
            "text/plain": [
              "[0.7199600895824313,\n",
              " 0.6876805935759774,\n",
              " 0.6503452857585772,\n",
              " 0.6747907469506821,\n",
              " 0.6956109446452583]"
            ]
          },
          "metadata": {
            "tags": []
          },
          "execution_count": 287
        }
      ]
    },
    {
      "cell_type": "code",
      "metadata": {
        "id": "Jk-SpiA_RZVF",
        "outputId": "c776f97b-e307-4a44-8643-1949faedf0e7",
        "colab": {
          "base_uri": "https://localhost:8080/"
        }
      },
      "source": [
        "!zip -r /content/cv.zip /content/cv"
      ],
      "execution_count": null,
      "outputs": [
        {
          "output_type": "stream",
          "text": [
            "  adding: content/cv/ (stored 0%)\n",
            "  adding: content/cv/cv3_train.pickle (deflated 82%)\n",
            "  adding: content/cv/cv2_X_train.pickle (deflated 72%)\n",
            "  adding: content/cv/cv4_Y_train.pickle (deflated 97%)\n",
            "  adding: content/cv/cv1_Y_train.pickle (deflated 97%)\n",
            "  adding: content/cv/cv2_X_valid.pickle (deflated 71%)\n",
            "  adding: content/cv/cv1_Y_valid.pickle (deflated 96%)\n",
            "  adding: content/cv/cv4_X_valid.pickle (deflated 72%)\n",
            "  adding: content/cv/cv1_X_train.pickle (deflated 72%)\n",
            "  adding: content/cv/cv5_Y_train.pickle (deflated 97%)\n",
            "  adding: content/cv/cv3_valid.pickle (deflated 82%)\n",
            "  adding: content/cv/cv5_valid.pickle (deflated 82%)\n",
            "  adding: content/cv/cv2_Y_train.pickle (deflated 97%)\n",
            "  adding: content/cv/cv3_Y_valid.pickle (deflated 96%)\n",
            "  adding: content/cv/cv5_X_valid.pickle (deflated 71%)\n",
            "  adding: content/cv/cv1_valid.pickle (deflated 83%)\n",
            "  adding: content/cv/cv1_X_valid.pickle (deflated 72%)\n",
            "  adding: content/cv/cv4_X_train.pickle (deflated 72%)\n",
            "  adding: content/cv/cv3_X_valid.pickle (deflated 72%)\n",
            "  adding: content/cv/cv4_Y_valid.pickle (deflated 96%)\n",
            "  adding: content/cv/cv5_train.pickle (deflated 82%)\n",
            "  adding: content/cv/cv2_train.pickle (deflated 82%)\n",
            "  adding: content/cv/cv2_valid.pickle (deflated 82%)\n",
            "  adding: content/cv/cv5_Y_valid.pickle (deflated 96%)\n",
            "  adding: content/cv/cv4_valid.pickle (deflated 82%)\n",
            "  adding: content/cv/cv1_train.pickle (deflated 82%)\n",
            "  adding: content/cv/cv5_X_train.pickle (deflated 72%)\n",
            "  adding: content/cv/cv2_Y_valid.pickle (deflated 96%)\n",
            "  adding: content/cv/cv3_X_train.pickle (deflated 72%)\n",
            "  adding: content/cv/cv3_Y_train.pickle (deflated 97%)\n",
            "  adding: content/cv/cv4_train.pickle (deflated 82%)\n"
          ],
          "name": "stdout"
        }
      ]
    },
    {
      "cell_type": "markdown",
      "metadata": {
        "id": "2bg7yWA-ZEhk"
      },
      "source": [
        "# **Upload File**"
      ]
    },
    {
      "cell_type": "code",
      "metadata": {
        "id": "WM4Tl_UlZfC8",
        "outputId": "af885d25-943e-4894-bf5a-963bf2c9330f",
        "colab": {
          "base_uri": "https://localhost:8080/"
        }
      },
      "source": [
        "from google.colab import drive\n",
        "drive.mount('/content/gdrive',force_remount=True)"
      ],
      "execution_count": null,
      "outputs": [
        {
          "output_type": "stream",
          "text": [
            "Mounted at /content/gdrive\n"
          ],
          "name": "stdout"
        }
      ]
    },
    {
      "cell_type": "code",
      "metadata": {
        "id": "UqK0x8S7ZtCQ",
        "outputId": "72e712a7-af05-4f9e-a19f-c5ff87c70a0e",
        "colab": {
          "base_uri": "https://localhost:8080/"
        }
      },
      "source": [
        "!cp cv.zip '/content/gdrive/My Drive/kaggle'\n",
        "!ls -lt '/content/gdrive/My Drive/kaggle' "
      ],
      "execution_count": null,
      "outputs": [
        {
          "output_type": "stream",
          "text": [
            "total 2356570\n",
            "-rw------- 1 root root 1773248237 Nov 15 19:35  cv.zip\n",
            "drwx------ 2 root root       4096 Nov 10 22:24 'Colab Notebooks'\n",
            "-rw------- 1 root root        151 Sep  3 08:18  dns-records.gsheet\n",
            "drwx------ 2 root root       4096 Jun 13 10:55  books\n",
            "-rw------- 1 root root     314159 May 29 13:20 'Assignment 10.pdf'\n",
            "-rw------- 1 root root    3963760 May 29 13:20  PL-Stovyklos-Programa-CLOSE.pptx\n",
            "-rw------- 1 root root       9428 May 29 13:20  SAT7.xlsx\n",
            "-rw------- 1 root root      51245 May 12  2020  Prašymas_baigiamojo_darbo_temos_pasirinkimui_kai_renkasi_temą_pats_studentas.pdf\n",
            "-rw------- 1 root root        151 Mar 27  2020 '„Tomo Rasimavičiaus “Practice test 7” (ML1 ST3)“ kopija.gdoc'\n",
            "-rw------- 1 root root        151 Mar 27  2020 '„Tomo Rasimavičiaus “Practice test 6” (ML2 ST5)“ kopija.gdoc'\n",
            "-rw------- 1 root root        151 Mar 27  2020 '„Tomo Rasimavičiaus “Practice test 5” (ML1 ST1)“ kopija.gdoc'\n",
            "-rw------- 1 root root        151 Mar 27  2020 '„Tomo Rasimavičiaus “Practice test 4” (ML2 ST4)“ kopija.gdoc'\n",
            "-rw------- 1 root root      26878 Mar  5  2020 'sutartis su klientais vok k.ir sutikimas.docm'\n",
            "drwx------ 2 root root       4096 Mar  4  2020  primelearning\n",
            "-rw------- 1 root root        151 Feb 27  2020 'Dokumentas be pavadinimo.gdoc'\n",
            "-rw------- 1 root root     846549 Feb 14  2020 'Kangaroo Answers LT.pdf'\n",
            "drwx------ 2 root root       4096 Jan 31  2020  Notability\n",
            "drwx------ 2 root root       4096 Jan 31  2020 'Notability (1)'\n",
            "drwx------ 2 root root       4096 Jan 31  2020 'Notability (2)'\n",
            "drwx------ 2 root root       4096 Jan 23  2020  german\n",
            "-rw------- 1 root root      10498 Dec 22  2019  RecommendationLetter2modified.docx\n",
            "-rw------- 1 root root      11180 Dec 20  2019  kasparasref.docx\n",
            "-rw------- 1 root root     957194 Dec 12  2019  Problems4.pdf\n",
            "-rw------- 1 root root        151 Nov 22  2019 'German words.gsheet'\n",
            "-rw------- 1 root root        151 Oct 16  2019 'Bevardė forma.gform'\n",
            "-rw------- 1 root root        151 Oct 16  2019 'Bevardė forma (1).gform'\n",
            "drwx------ 2 root root       4096 Sep 17  2019  dev\n",
            "drwx------ 2 root root       4096 Sep  2  2019 'old pc '\n",
            "drwx------ 2 root root       4096 Aug  7  2019  Backpaqr\n",
            "drwx------ 2 root root       4096 Jul 28  2019 'new haven for Guoda'\n",
            "-rw------- 1 root root     204479 Jul 17  2019  Asvydis_Paulius_CV.pdf\n",
            "-rw------- 1 root root  493715274 Jul 16  2019  2F6FD777-7DD2-416F-8434-2E4AC3E86CB9.MP4\n",
            "-rw------- 1 root root      28526 Jul  9  2019  FAX_20190709_1562675038_87.pdf\n",
            "-rw------- 1 root root       6386 Jul  9  2019 'IRS fax statement.docx'\n",
            "-rw------- 1 root root        151 Jul  9  2019 'IRS fax statement.gdoc'\n",
            "-rw------- 1 root root     174667 Jul  8  2019 'Copy of Consent of Sole Director in Lieu of First Meeting (DE) Backpaqr, Inc.pdf'\n",
            "-rw------- 1 root root      25975 Jul  4  2019  Form-Service-Provider-Confidentiality-and-Assignment-of-Inventions-Agree....docx\n",
            "-rw------- 1 root root        151 Jul  1  2019 'Darbo aplikacijos.gsheet'\n",
            "-rw------- 1 root root     260447 Jun 21  2019  vyruprogramaupdated.pdf\n",
            "drwx------ 2 root root       4096 Jun 17  2019  Teaching\n",
            "-rw------- 2 root root      28886 Jun 14  2019  Backpaqr-CHASE.pdf\n",
            "drwx------ 2 root root       4096 Jun  8  2019  random\n",
            "-rw------- 1 root root        151 May 26  2019 'Consent of Sole Director in Lieu of First Meeting (DE) Backpaqr, Inc..DOC.gdoc'\n",
            "-rw------- 1 root root      31232 May 26  2019 'Consent of Sole Director in Lieu of First Meeting (DE) Backpaqr, Inc..DOC'\n",
            "-rw------- 1 root root        151 May 26  2019 'Form SS-4 Application For EIN Backpaqr, Inc..gdoc'\n",
            "drwx------ 2 root root       4096 May 24  2019  documents\n",
            "-rw------- 1 root root      86397 May  1  2019 'Copy of LA-Stipendija-Paraiskos-forma-2019 (2).doc'\n",
            "-rw------- 1 root root        151 May  1  2019 'Motyvacinis Paulius.gdoc'\n",
            "-rw------- 1 root root      10489 May  1  2019 'Motyvacinis Paulius.docx'\n",
            "-rw------- 1 root root      10489 May  1  2019 'Motyvacinis Paulius (1).docx'\n",
            "-rw------- 1 root root        129 Feb 16  2019  software\n",
            "-rw------- 1 root root     234579 Jan 29  2019  Unknown.pdf\n",
            "drwx------ 2 root root       4096 Jul  1  2018  Noutraukos\n",
            "-rw------- 1 root root    5366042 Jan 31  2018 'Coding 6.pdf'\n",
            "-rw------- 1 root root    5305856 Jan 29  2018 'Coding 5.pdf'\n",
            "-rw------- 1 root root   66575155 Jan  4  2018 'Data Structures And Problem Solving Using C++ 2nd ed - Mark Weiss.pdf'\n",
            "-rw------- 1 root root    2053557 Nov 26  2017 'GT 22.pdf'\n",
            "-rw------- 1 root root     212615 Oct 29  2017 'Asvydis_Paulius_IT_CV 2017.pdf'\n",
            "-rw------- 1 root root     212615 Oct 29  2017 'Asvydis_Paulius_IT_CV 2017 (1).pdf'\n",
            "drwx------ 2 root root       4096 Oct 18  2017 'data hackathon'\n",
            "-rw------- 1 root root    4118488 Oct 12  2017 'GT 4.pdf'\n",
            "-rw------- 1 root root    4516542 Oct 11  2017 'PoS 3.pdf'\n",
            "-rw------- 1 root root    5789347 Jun 22  2017  Asvydis_Paulius_Cover_Letter_TTP.pdf\n",
            "-rw------- 1 root root   44639477 Jun 22  2017  options.PDF\n"
          ],
          "name": "stdout"
        }
      ]
    }
  ]
}