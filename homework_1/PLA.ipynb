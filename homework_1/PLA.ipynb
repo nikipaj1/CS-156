{
 "cells": [
  {
   "cell_type": "code",
   "execution_count": null,
   "metadata": {
    "collapsed": true
   },
   "outputs": [],
   "source": [
    "import numpy as np\n",
    "import random\n",
    "import matplotlib.pyplot as plt\n",
    "% matplotlib inline\n",
    "import seaborn as sns\n",
    "from pylab import savefig"
   ]
  },
  {
   "cell_type": "code",
   "execution_count": 61,
   "metadata": {},
   "outputs": [
    {
     "name": "stdout",
     "output_type": "stream",
     "text": [
      "Question 7.  Average number of iterations for PLA to converge is 8.867\n",
      "Question 8.  Average E_out error is  0.114\n"
     ]
    }
   ],
   "source": [
    "class PLA:\n",
    "    def __init__(self,X_train,X_test):\n",
    "        self.X_train = X_train\n",
    "        self.X_test = X_test\n",
    "        self.w = np.zeros((3,1))\n",
    "        \n",
    "        self.point1 = [random.uniform(-1,1),random.uniform(-1,1)]\n",
    "        self.point2 = [random.uniform(-1,1),random.uniform(-1,1)]\n",
    "        \n",
    "    def target(self,point):\n",
    "        x,y = point[1], point[2]\n",
    "        x1,y1 = self.point1\n",
    "        x2,y2 = self.point2\n",
    "                \n",
    "        slope = (y2-y1)/(x2-x1)\n",
    "        \n",
    "        # slope*(x-x1) = y-y1\n",
    "        if slope*(x-x1) + y1 < y: return -1\n",
    "        else: return 1\n",
    "        \n",
    "    def hypothesis(self,point):\n",
    "        return np.sign(np.dot(point,self.w))\n",
    "    \n",
    "    def train(self):\n",
    "        misclassified = []\n",
    "        \n",
    "        repeats = 0\n",
    "        \n",
    "        while True:\n",
    "            for point in self.X_train:\n",
    "                #find all misclassified points\n",
    "                real = self.target(point)\n",
    "                if self.hypothesis(point) != real:\n",
    "                    misclassified.append([point,real])\n",
    "                \n",
    "                # modify weights to classify correctly, we apply PLA only to separable data\n",
    "                # otherwise would have to use pocket algorithm\n",
    "                \n",
    "            if misclassified:\n",
    "\n",
    "                repeats +=1 \n",
    "                # choose a random point to train the perceptron\n",
    "                pt = random.choice(misclassified)\n",
    "                point = pt[0]\n",
    "                y_n = pt[1]\n",
    "\n",
    "                self.w += y_n * np.array([point]).T\n",
    "                \n",
    "                \n",
    "                # give back empty misclassified list\n",
    "                misclassified = []\n",
    "            else: break\n",
    "        return repeats\n",
    "            \n",
    "    def test(self):\n",
    "        error = 0\n",
    "\n",
    "        for point in self.X_test:\n",
    "            if self.hypothesis(point) != self.target(point): error +=1\n",
    "\n",
    "        return error / float(len(self.X_test))\n",
    "        \n",
    "def data_gen(data_size, e_in = False):\n",
    "    X_train = [[1.,random.uniform(-1,1),random.uniform(-1,1)] for i in range(data_size)]\n",
    "    \n",
    "    if e_in:\n",
    "        X_test = X_train\n",
    "    else:\n",
    "        X_test = [[1.,random.uniform(-1,1),random.uniform(-1,1)] for i in range(data_size)]\n",
    "        \n",
    "    return X_train, X_test\n",
    "    \n",
    "def question_7():\n",
    "    repeats = 0\n",
    "    avg_error = 0\n",
    "    for i in range(1000): \n",
    "        X_train, X_test = data_gen(10)\n",
    "        \n",
    "        pla = PLA(X_train,X_test)\n",
    "        repeats += pla.train()\n",
    "        avg_error += pla.test()\n",
    "        \n",
    "\n",
    "        \n",
    "    avg_repeats = repeats / 1000.\n",
    "    avg_error /=1000.\n",
    "    print(\"Question 7.  Average number of iterations for PLA to converge is \" + str(avg_repeats))\n",
    "    print(\"Question 8.  Average E_out error is  \" + str(np.round(avg_error, decimals=3)))\n",
    "           \n",
    "\n",
    "if __name__ == \"__main__\":\n",
    "    question_7()\n",
    "    \n",
    "        "
   ]
  },
  {
   "cell_type": "code",
   "execution_count": null,
   "metadata": {
    "collapsed": true
   },
   "outputs": [],
   "source": []
  }
 ],
 "metadata": {
  "kernelspec": {
   "display_name": "Python 3",
   "language": "python",
   "name": "python3"
  },
  "language_info": {
   "codemirror_mode": {
    "name": "ipython",
    "version": 3
   },
   "file_extension": ".py",
   "mimetype": "text/x-python",
   "name": "python",
   "nbconvert_exporter": "python",
   "pygments_lexer": "ipython3",
   "version": "3.6.8"
  }
 },
 "nbformat": 4,
 "nbformat_minor": 2
}
