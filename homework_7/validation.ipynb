{
 "cells": [
  {
   "cell_type": "code",
   "execution_count": 36,
   "metadata": {
    "collapsed": true
   },
   "outputs": [],
   "source": [
    "import numpy as np\n",
    "import random\n",
    "import matplotlib.pyplot as plt\n",
    "import seaborn as sns\n",
    "import pandas as pd"
   ]
  },
  {
   "cell_type": "code",
   "execution_count": 54,
   "metadata": {},
   "outputs": [
    {
     "name": "stdout",
     "output_type": "stream",
     "text": [
      "for k = 3 E_val = 0.5\n",
      "for k = 4 E_val = 0.5\n",
      "for k = 5 E_val = 0.5\n",
      "for k = 6 E_val = 0.5\n",
      "for k = 7 E_val = 0.5\n"
     ]
    }
   ],
   "source": [
    "class Validation:\n",
    "    def __init__(self, X_train,y_train,X_test = None,y_test = None,w_vect = None):\n",
    "        self.X_train = X_train\n",
    "        self.y_train = y_train\n",
    "        self.X_test = X_test\n",
    "        self.y_test = y_test\n",
    "        \n",
    "        # in the non-linear case, will define Z_mat\n",
    "        self.Z_mat = None\n",
    "        \n",
    "        if w_vect is None:\n",
    "            w_vect = np.array([0.,0.,0.]).T\n",
    "        else: \n",
    "            w_vect = w_vect\n",
    "    \n",
    "    def transform(self,data_set):\n",
    "        arr = []\n",
    "        for point in data_set:\n",
    "            x1,x2 = point[1],point[2]\n",
    "            arr.append([1,x1,x2,x1**2,x2**2,x1*x2,np.abs(x1-x2),np.abs(x1+x2)])\n",
    "        return arr\n",
    "    \n",
    "    def lr_train(self,k = None):\n",
    "        y_vect = np.array([self.y_train]).T\n",
    "\n",
    "        self.Z_train = self.transform(self.X_train)\n",
    "        self.w_vect = np.dot(np.linalg.pinv(self.Z_train),y_vect)\n",
    "        \n",
    "        # add regularization (weight decay)\n",
    "        if k is not None:\n",
    "            lmbda = 10**(k)\n",
    "            w_sqrd = (np.linalg.norm(self.w_vect))**2\n",
    "            N = len(y_vect)\n",
    "            decay = (lmbda / float(N)) * w_sqrd \n",
    "            \n",
    "            regularization = np.linalg.pinv(self.Z_train + decay)\n",
    "            self.w_vect = np.dot(regularization, y_vect)\n",
    "\n",
    "             \n",
    "    def test(self):\n",
    "        error = 0\n",
    "        self.Z_test = self.transform(self.X_test)\n",
    "        y_pred = np.sign(np.dot(self.Z_test, self.w_vect))\n",
    "\n",
    "        # count all different members\n",
    "        for i in range(len(y_pred)-1):\n",
    "            if y_pred[i][0] != self.y_test[i]:\n",
    "                error += 1\n",
    "        return error\n",
    "\n",
    "    \n",
    "def run(e_in=False,k=None,validation = False):\n",
    "    \n",
    "    # load training and testing data\n",
    "    df1 = pd.read_table(\"in.dta.txt\",delim_whitespace=True,header=None)\n",
    "    df2 = pd.read_table(\"out.dta.txt\",delim_whitespace=True, header = None)\n",
    "\n",
    "    X_train = [[1,df1[1][i],df1[0][i]] for i in range(25)]\n",
    "    X_val = [[1,df1[1][i],df1[0][i]] for i in range(25,35)]\n",
    "\n",
    "    y_train = [df1[2][i] for i in range(25)]\n",
    "    y_val = [df1[2][i] for i in range(25,35)]\n",
    "    \n",
    "    if not e_in:\n",
    "        # load testing data\n",
    "\n",
    "        X_test = [[1,df2[1][i],df2[0][i]] for i in range(len(df2)-1)]\n",
    "        y_test = [df2[2][i] for i in range(len(df2)-1)]\n",
    "   \n",
    "    else:\n",
    "        # training data is used for testing\n",
    "        X_test = X_train\n",
    "        y_test = y_train\n",
    "    \n",
    "        if validation:\n",
    "            X_test = X_val\n",
    "            y_test = y_val\n",
    "    \n",
    "#     print(np.array_equal(X_val,X_test), np.array_equal(y_val,y_test))\n",
    "    \n",
    "    val = Validation(X_train,y_train,X_val,y_val)\n",
    "    \n",
    "\n",
    "    k_vals = (3,4,5,6,7)\n",
    "    \n",
    "    for k in k_vals:\n",
    "        val.lr_train(k = k)\n",
    "        error = val.test()\n",
    "        print(\"for k = \" + str(k) + \" E_val = \" + str(error/ float(len(X_val)))) \n",
    "        \n",
    "#     return error / float(len(X_test))\n",
    "        \n",
    "if __name__ == \"__main__\":\n",
    "    run(True,validation = True)\n",
    "    "
   ]
  },
  {
   "cell_type": "code",
   "execution_count": null,
   "metadata": {
    "collapsed": true
   },
   "outputs": [],
   "source": []
  }
 ],
 "metadata": {
  "kernelspec": {
   "display_name": "Python 3",
   "language": "python",
   "name": "python3"
  },
  "language_info": {
   "codemirror_mode": {
    "name": "ipython",
    "version": 3
   },
   "file_extension": ".py",
   "mimetype": "text/x-python",
   "name": "python",
   "nbconvert_exporter": "python",
   "pygments_lexer": "ipython3",
   "version": "3.6.8"
  }
 },
 "nbformat": 4,
 "nbformat_minor": 2
}
