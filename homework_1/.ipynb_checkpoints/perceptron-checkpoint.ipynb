{
 "cells": [
  {
   "cell_type": "code",
   "execution_count": 76,
   "metadata": {
    "collapsed": true
   },
   "outputs": [],
   "source": [
    "import numpy as np\n",
    "import random\n",
    "import os\n",
    "import matplotlib.pyplot as plt\n",
    "% matplotlib inline"
   ]
  },
  {
   "cell_type": "code",
   "execution_count": null,
   "metadata": {},
   "outputs": [],
   "source": [
    "# code for perceptron in homework 1. Reused in later problems\n",
    "\n",
    "def plot(data, x_line = None, y_line=None, name = None, w_slope = None, w_intercept = None):\n",
    "    fig = plt.figure()\n",
    "\n",
    "    ax = fig.add_subplot(111)\n",
    "    \n",
    "    ax.set_xlabel('$x_1$')\n",
    "    ax.set_ylabel('$x_2$')\n",
    "    \n",
    "    px,py,nx,ny = [],[],[],[]\n",
    "    \n",
    "    for point in data:\n",
    "        if target(point) == 1:\n",
    "            px.append(point[1])\n",
    "            py.append(point[2])\n",
    "        else:\n",
    "            nx.append(point[1])\n",
    "            ny.append(point[2])  \n",
    "        \n",
    "    x_line = np.linspace(-1.,1.,50)\n",
    "    if w_slope is None:\n",
    "        y_line = [slope*(point - x1) + y1 for point in x_line]\n",
    "    else:\n",
    "        y_line = [w_slope*point + w_intercept for point in x_line]\n",
    "    \n",
    "    plt.plot(px, py, 'xr',nx, ny,'xb',x_line, y_line, 'k')\n",
    "    plt.xlim((-1.1, 1.1))\n",
    "    plt.ylim((-1.1, 1.1))\n",
    "    plt.savefig(name + \".png\", dpi = 100)\n",
    "    plt.show()\n",
    "    \n",
    "def generate_target():\n",
    "    point1 = (random.uniform(-1,1), random.uniform(-1,1))\n",
    "    point2 = (random.uniform(-1,1), random.uniform(-1,1))\n",
    "    \n",
    "    x1,y1 = point1\n",
    "    x2,y2 = point2\n",
    "    \n",
    "    slope = (y2-y1) / (x2-x1)\n",
    "    return x1, y1, slope\n",
    "    \n",
    "def create_data(size, in_sample = False):\n",
    "    training_data = [[1, random.uniform(-1,1), random.uniform(-1,1)] \n",
    "                              for i in range(size)]\n",
    "    if in_sample:\n",
    "        testing_data = training_data.copy()\n",
    "    else:\n",
    "        testing_data = [[1, random.uniform(-1,1), random.uniform(-1,1)] \n",
    "                                 for i in range(size)]\n",
    "    return training_data, testing_data                   \n",
    "                                \n",
    "def target(point):\n",
    "    x,y = point[1],point[2]\n",
    "    global x1,y1,slope\n",
    "    if y > slope*(x-x1) + y1:\n",
    "        return 1\n",
    "    else:\n",
    "        return -1\n",
    "\n",
    "def hypothesis(point):\n",
    "    return np.sign(np.dot(point,w))\n",
    "\n",
    "def train():\n",
    "    misclassified = []\n",
    "    repeats = 0\n",
    "    \n",
    "    while True:\n",
    "        for point in training_data:\n",
    "            # find all misclassified points\n",
    "            if hypothesis(point) != target(point):\n",
    "                repeats += 1\n",
    "                misclassified.append(point)\n",
    "            # modify weights to classify correctly, we apply PLA only to separable data \n",
    "            # otherwise would have to use pocket algorithm\n",
    "            if not misclassified: break\n",
    "            else:\n",
    "                # choosing a random point to train the perceptron\n",
    "                x_n = random.choice(misclassified)\n",
    "                true_val = target(x_n)\n",
    "                \n",
    "                global w\n",
    "                w += true_val * np.array([x_n]).T\n",
    "    return repeats, w\n",
    "\n",
    "def test():\n",
    "    err = 0\n",
    "    \n",
    "    for point in testing_data:\n",
    "        if hypothesis(point) != target(point):\n",
    "            err += 1\n",
    "        \n",
    "    return err / float(len(testing_data))"
   ]
  },
  {
   "cell_type": "code",
   "execution_count": null,
   "metadata": {
    "scrolled": false
   },
   "outputs": [],
   "source": [
    "# question 7\n",
    "runs = 1\n",
    "data_size = 10\n",
    "repeats = 0\n",
    "for i in range(runs):\n",
    "    x1,y1,slope = generate_target()\n",
    "    training_data, testing_data = create_data(size = data_size, in_sample=True)  \n",
    "\n",
    "#     plot(data=training_data,name=\"target-\" + str(i))\n",
    "    \n",
    "    repeat, w = train()\n",
    "    repeats += repeat\n",
    "    slope = -(w[1]/w[2])\n",
    "    intercept = -(w[0]/w[2])\n",
    "        \n",
    "#     plot(data = training_data,name=\"trained-\" + str(i), w_slope = slope, w_intercept=intercept)\n",
    "    \n",
    "print(\"number of repeats: \" + str(repeats / float(runs)))"
   ]
  },
  {
   "cell_type": "code",
   "execution_count": null,
   "metadata": {
    "collapsed": true
   },
   "outputs": [],
   "source": []
  },
  {
   "cell_type": "code",
   "execution_count": null,
   "metadata": {
    "collapsed": true
   },
   "outputs": [],
   "source": []
  }
 ],
 "metadata": {
  "kernelspec": {
   "display_name": "Python 3",
   "language": "python",
   "name": "python3"
  },
  "language_info": {
   "codemirror_mode": {
    "name": "ipython",
    "version": 3
   },
   "file_extension": ".py",
   "mimetype": "text/x-python",
   "name": "python",
   "nbconvert_exporter": "python",
   "pygments_lexer": "ipython3",
   "version": "3.6.1"
  }
 },
 "nbformat": 4,
 "nbformat_minor": 2
}
